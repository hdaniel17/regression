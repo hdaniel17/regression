{
 "cells": [
  {
   "cell_type": "markdown",
   "source": [
    "Cleaning Prostate Cancer data from Elements of Statistical Learning"
   ],
   "metadata": {
    "collapsed": false
   },
   "id": "56546588541948b0"
  },
  {
   "cell_type": "code",
   "execution_count": 128,
   "id": "initial_id",
   "metadata": {
    "collapsed": true,
    "ExecuteTime": {
     "end_time": "2024-06-06T02:09:14.238714200Z",
     "start_time": "2024-06-06T02:09:14.232025400Z"
    }
   },
   "outputs": [],
   "source": [
    "import pandas as pd\n",
    "import numpy as np\n",
    "from sklearn.linear_model import Lasso\n",
    "import matplotlib.pyplot as plt\n",
    "import math"
   ]
  },
  {
   "cell_type": "code",
   "outputs": [
    {
     "data": {
      "text/plain": "      lcavol   lweight       age      lbph       svi       lcp   gleason  \\\n0  -1.523680 -1.797414 -1.965590 -0.995955 -0.533063 -0.836769 -1.031712   \n1  -1.857204 -0.643057 -0.899238 -0.995955 -0.533063 -0.836769 -1.031712   \n2  -1.468157 -1.961526  1.233468 -0.995955 -0.533063 -0.836769  0.378996   \n3  -2.025981 -0.720349 -0.899238 -0.995955 -0.533063 -0.836769 -1.031712   \n4  -0.452342 -0.406493 -0.366061 -0.995955 -0.533063 -0.836769 -1.031712   \n..       ...       ...       ...       ...       ...       ...       ...   \n73  0.392995 -1.324487 -0.269754  0.189243  1.966384  0.905789  2.890461   \n79  1.300232  0.624488  0.156173 -1.074047 -0.491596  0.334750  0.262769   \n83  1.201983  0.674948  0.440125  0.657910 -0.491596  1.309466  2.890461   \n94  1.423715 -0.794540 -1.405559 -1.074047  1.966384  1.815103  0.262769   \n96  1.968280  1.128970  0.866051  0.189243  1.966384  2.126636  0.262769   \n\n       pgg45 train      lpsa  \n0  -0.896487     T -0.430783  \n1  -0.896487     T -0.162519  \n2  -0.213934     T -0.162519  \n3  -0.896487     T -0.162519  \n4  -0.896487     T  0.371564  \n..       ...   ...       ...  \n73  2.733572     F  3.075006  \n79  1.167803     F  3.513037  \n83  1.950687     F  3.570940  \n94 -0.397966     F  5.143124  \n96 -0.006524     F  5.582932  \n\n[97 rows x 10 columns]",
      "text/html": "<div>\n<style scoped>\n    .dataframe tbody tr th:only-of-type {\n        vertical-align: middle;\n    }\n\n    .dataframe tbody tr th {\n        vertical-align: top;\n    }\n\n    .dataframe thead th {\n        text-align: right;\n    }\n</style>\n<table border=\"1\" class=\"dataframe\">\n  <thead>\n    <tr style=\"text-align: right;\">\n      <th></th>\n      <th>lcavol</th>\n      <th>lweight</th>\n      <th>age</th>\n      <th>lbph</th>\n      <th>svi</th>\n      <th>lcp</th>\n      <th>gleason</th>\n      <th>pgg45</th>\n      <th>train</th>\n      <th>lpsa</th>\n    </tr>\n  </thead>\n  <tbody>\n    <tr>\n      <th>0</th>\n      <td>-1.523680</td>\n      <td>-1.797414</td>\n      <td>-1.965590</td>\n      <td>-0.995955</td>\n      <td>-0.533063</td>\n      <td>-0.836769</td>\n      <td>-1.031712</td>\n      <td>-0.896487</td>\n      <td>T</td>\n      <td>-0.430783</td>\n    </tr>\n    <tr>\n      <th>1</th>\n      <td>-1.857204</td>\n      <td>-0.643057</td>\n      <td>-0.899238</td>\n      <td>-0.995955</td>\n      <td>-0.533063</td>\n      <td>-0.836769</td>\n      <td>-1.031712</td>\n      <td>-0.896487</td>\n      <td>T</td>\n      <td>-0.162519</td>\n    </tr>\n    <tr>\n      <th>2</th>\n      <td>-1.468157</td>\n      <td>-1.961526</td>\n      <td>1.233468</td>\n      <td>-0.995955</td>\n      <td>-0.533063</td>\n      <td>-0.836769</td>\n      <td>0.378996</td>\n      <td>-0.213934</td>\n      <td>T</td>\n      <td>-0.162519</td>\n    </tr>\n    <tr>\n      <th>3</th>\n      <td>-2.025981</td>\n      <td>-0.720349</td>\n      <td>-0.899238</td>\n      <td>-0.995955</td>\n      <td>-0.533063</td>\n      <td>-0.836769</td>\n      <td>-1.031712</td>\n      <td>-0.896487</td>\n      <td>T</td>\n      <td>-0.162519</td>\n    </tr>\n    <tr>\n      <th>4</th>\n      <td>-0.452342</td>\n      <td>-0.406493</td>\n      <td>-0.366061</td>\n      <td>-0.995955</td>\n      <td>-0.533063</td>\n      <td>-0.836769</td>\n      <td>-1.031712</td>\n      <td>-0.896487</td>\n      <td>T</td>\n      <td>0.371564</td>\n    </tr>\n    <tr>\n      <th>...</th>\n      <td>...</td>\n      <td>...</td>\n      <td>...</td>\n      <td>...</td>\n      <td>...</td>\n      <td>...</td>\n      <td>...</td>\n      <td>...</td>\n      <td>...</td>\n      <td>...</td>\n    </tr>\n    <tr>\n      <th>73</th>\n      <td>0.392995</td>\n      <td>-1.324487</td>\n      <td>-0.269754</td>\n      <td>0.189243</td>\n      <td>1.966384</td>\n      <td>0.905789</td>\n      <td>2.890461</td>\n      <td>2.733572</td>\n      <td>F</td>\n      <td>3.075006</td>\n    </tr>\n    <tr>\n      <th>79</th>\n      <td>1.300232</td>\n      <td>0.624488</td>\n      <td>0.156173</td>\n      <td>-1.074047</td>\n      <td>-0.491596</td>\n      <td>0.334750</td>\n      <td>0.262769</td>\n      <td>1.167803</td>\n      <td>F</td>\n      <td>3.513037</td>\n    </tr>\n    <tr>\n      <th>83</th>\n      <td>1.201983</td>\n      <td>0.674948</td>\n      <td>0.440125</td>\n      <td>0.657910</td>\n      <td>-0.491596</td>\n      <td>1.309466</td>\n      <td>2.890461</td>\n      <td>1.950687</td>\n      <td>F</td>\n      <td>3.570940</td>\n    </tr>\n    <tr>\n      <th>94</th>\n      <td>1.423715</td>\n      <td>-0.794540</td>\n      <td>-1.405559</td>\n      <td>-1.074047</td>\n      <td>1.966384</td>\n      <td>1.815103</td>\n      <td>0.262769</td>\n      <td>-0.397966</td>\n      <td>F</td>\n      <td>5.143124</td>\n    </tr>\n    <tr>\n      <th>96</th>\n      <td>1.968280</td>\n      <td>1.128970</td>\n      <td>0.866051</td>\n      <td>0.189243</td>\n      <td>1.966384</td>\n      <td>2.126636</td>\n      <td>0.262769</td>\n      <td>-0.006524</td>\n      <td>F</td>\n      <td>5.582932</td>\n    </tr>\n  </tbody>\n</table>\n<p>97 rows × 10 columns</p>\n</div>"
     },
     "execution_count": 129,
     "metadata": {},
     "output_type": "execute_result"
    }
   ],
   "source": [
    "# Load in data, target is lpsa\n",
    "prostate_df = pd.read_excel('Data/Prostate Cancer Data.xlsx', 'prostate').drop(columns=['Unnamed: 0'])\n",
    "train_copy = prostate_df.query(\"train == 'T'\").copy()  # Split train and test so we can standardize\n",
    "test_copy = prostate_df.query(\"train == 'F'\").copy()\n",
    "\n",
    "y_train_copy = train_copy.lpsa  # Save y\n",
    "y_test_copy = test_copy.lpsa\n",
    "\n",
    "train_copy = train_copy.drop(columns=['lpsa', 'train'])\n",
    "test_copy = test_copy.drop(columns=['lpsa', 'train'])\n",
    "\n",
    "# Note that pandas uses sample std (np.std uses population)\n",
    "train_copy =(train_copy-train_copy.mean())/train_copy.std()  # Standardize\n",
    "test_copy =(test_copy-test_copy.mean())/test_copy.std()  # Standardize\n",
    "\n",
    "train_copy['train'] = 'T'  # Add everything back in and join\n",
    "test_copy['train'] = 'F'\n",
    "train_copy['lpsa'] = y_train_copy\n",
    "test_copy['lpsa'] = y_test_copy\n",
    "\n",
    "prostate_df= pd.concat([train_copy,test_copy], axis=0)\n",
    "\n",
    "prostate_df"
   ],
   "metadata": {
    "collapsed": false,
    "ExecuteTime": {
     "end_time": "2024-06-06T02:09:14.807181700Z",
     "start_time": "2024-06-06T02:09:14.757891100Z"
    }
   },
   "id": "d50889729b4a8cd9",
   "execution_count": 129
  },
  {
   "cell_type": "code",
   "outputs": [],
   "source": [
    "prostate_df.to_pickle('Data/prostate.pkl')"
   ],
   "metadata": {
    "collapsed": false,
    "ExecuteTime": {
     "end_time": "2024-06-06T02:09:27.576181100Z",
     "start_time": "2024-06-06T02:09:27.572138Z"
    }
   },
   "id": "847d93f38469425b",
   "execution_count": 130
  },
  {
   "cell_type": "code",
   "outputs": [],
   "source": [],
   "metadata": {
    "collapsed": false
   },
   "id": "ff0c190f0f33dc57"
  }
 ],
 "metadata": {
  "kernelspec": {
   "display_name": "Python 3",
   "language": "python",
   "name": "python3"
  },
  "language_info": {
   "codemirror_mode": {
    "name": "ipython",
    "version": 2
   },
   "file_extension": ".py",
   "mimetype": "text/x-python",
   "name": "python",
   "nbconvert_exporter": "python",
   "pygments_lexer": "ipython2",
   "version": "2.7.6"
  }
 },
 "nbformat": 4,
 "nbformat_minor": 5
}
