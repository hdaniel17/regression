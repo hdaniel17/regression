{
 "cells": [
  {
   "cell_type": "markdown",
   "source": [
    "Cleaning Prostate Cancer data from Elements of Statistical Learning"
   ],
   "metadata": {
    "collapsed": false
   },
   "id": "56546588541948b0"
  },
  {
   "cell_type": "code",
   "execution_count": 117,
   "id": "initial_id",
   "metadata": {
    "collapsed": true,
    "ExecuteTime": {
     "end_time": "2024-06-05T18:39:13.412517900Z",
     "start_time": "2024-06-05T18:39:13.406506400Z"
    }
   },
   "outputs": [],
   "source": [
    "import pandas as pd\n",
    "import numpy as np\n",
    "from sklearn.linear_model import Lasso\n",
    "import matplotlib.pyplot as plt\n",
    "import math"
   ]
  },
  {
   "cell_type": "code",
   "outputs": [
    {
     "data": {
      "text/plain": "    intercept    lcavol   lweight       age      lbph       svi       lcp  \\\n0           1 -1.637356 -2.006212 -1.862426 -1.024706 -0.522941 -0.863171   \n1           1 -1.988980 -0.722009 -0.787896 -1.024706 -0.522941 -0.863171   \n2           1 -1.578819 -2.188784  1.361163 -1.024706 -0.522941 -0.863171   \n3           1 -2.166917 -0.807994 -0.787896 -1.024706 -0.522941 -0.863171   \n4           1 -0.507874 -0.458834 -0.250631 -1.024706 -0.522941 -0.863171   \n..        ...       ...       ...       ...       ...       ...       ...   \n92          1  1.255920  0.577607  0.555266 -1.024706  1.892548  1.073572   \n93          1  2.096506  0.625489 -2.668323 -1.024706  1.892548  1.679542   \n94          1  1.321402 -0.543304 -1.593794 -1.024706  1.892548  1.890377   \n95          1  1.300290  0.338384  0.555266  1.004813  1.892548  1.242632   \n96          1  1.800367  0.807764  0.555266  0.232904  1.892548  2.205279   \n\n     gleason     pgg45 train      lpsa  \n0  -1.042157 -0.864467     T -0.430783  \n1  -1.042157 -0.864467     T -0.162519  \n2   0.342627 -0.155348     T -0.162519  \n3  -1.042157 -0.864467     T -0.162519  \n4  -1.042157 -0.864467     T  0.371564  \n..       ...       ...   ...       ...  \n92  0.342627  1.262889     T  4.385147  \n93  0.342627  0.553770     T  4.684443  \n94  0.342627 -0.509907     F  5.143124  \n95  0.342627  1.972007     T  5.477509  \n96  0.342627 -0.155348     F  5.582932  \n\n[97 rows x 11 columns]",
      "text/html": "<div>\n<style scoped>\n    .dataframe tbody tr th:only-of-type {\n        vertical-align: middle;\n    }\n\n    .dataframe tbody tr th {\n        vertical-align: top;\n    }\n\n    .dataframe thead th {\n        text-align: right;\n    }\n</style>\n<table border=\"1\" class=\"dataframe\">\n  <thead>\n    <tr style=\"text-align: right;\">\n      <th></th>\n      <th>intercept</th>\n      <th>lcavol</th>\n      <th>lweight</th>\n      <th>age</th>\n      <th>lbph</th>\n      <th>svi</th>\n      <th>lcp</th>\n      <th>gleason</th>\n      <th>pgg45</th>\n      <th>train</th>\n      <th>lpsa</th>\n    </tr>\n  </thead>\n  <tbody>\n    <tr>\n      <th>0</th>\n      <td>1</td>\n      <td>-1.637356</td>\n      <td>-2.006212</td>\n      <td>-1.862426</td>\n      <td>-1.024706</td>\n      <td>-0.522941</td>\n      <td>-0.863171</td>\n      <td>-1.042157</td>\n      <td>-0.864467</td>\n      <td>T</td>\n      <td>-0.430783</td>\n    </tr>\n    <tr>\n      <th>1</th>\n      <td>1</td>\n      <td>-1.988980</td>\n      <td>-0.722009</td>\n      <td>-0.787896</td>\n      <td>-1.024706</td>\n      <td>-0.522941</td>\n      <td>-0.863171</td>\n      <td>-1.042157</td>\n      <td>-0.864467</td>\n      <td>T</td>\n      <td>-0.162519</td>\n    </tr>\n    <tr>\n      <th>2</th>\n      <td>1</td>\n      <td>-1.578819</td>\n      <td>-2.188784</td>\n      <td>1.361163</td>\n      <td>-1.024706</td>\n      <td>-0.522941</td>\n      <td>-0.863171</td>\n      <td>0.342627</td>\n      <td>-0.155348</td>\n      <td>T</td>\n      <td>-0.162519</td>\n    </tr>\n    <tr>\n      <th>3</th>\n      <td>1</td>\n      <td>-2.166917</td>\n      <td>-0.807994</td>\n      <td>-0.787896</td>\n      <td>-1.024706</td>\n      <td>-0.522941</td>\n      <td>-0.863171</td>\n      <td>-1.042157</td>\n      <td>-0.864467</td>\n      <td>T</td>\n      <td>-0.162519</td>\n    </tr>\n    <tr>\n      <th>4</th>\n      <td>1</td>\n      <td>-0.507874</td>\n      <td>-0.458834</td>\n      <td>-0.250631</td>\n      <td>-1.024706</td>\n      <td>-0.522941</td>\n      <td>-0.863171</td>\n      <td>-1.042157</td>\n      <td>-0.864467</td>\n      <td>T</td>\n      <td>0.371564</td>\n    </tr>\n    <tr>\n      <th>...</th>\n      <td>...</td>\n      <td>...</td>\n      <td>...</td>\n      <td>...</td>\n      <td>...</td>\n      <td>...</td>\n      <td>...</td>\n      <td>...</td>\n      <td>...</td>\n      <td>...</td>\n      <td>...</td>\n    </tr>\n    <tr>\n      <th>92</th>\n      <td>1</td>\n      <td>1.255920</td>\n      <td>0.577607</td>\n      <td>0.555266</td>\n      <td>-1.024706</td>\n      <td>1.892548</td>\n      <td>1.073572</td>\n      <td>0.342627</td>\n      <td>1.262889</td>\n      <td>T</td>\n      <td>4.385147</td>\n    </tr>\n    <tr>\n      <th>93</th>\n      <td>1</td>\n      <td>2.096506</td>\n      <td>0.625489</td>\n      <td>-2.668323</td>\n      <td>-1.024706</td>\n      <td>1.892548</td>\n      <td>1.679542</td>\n      <td>0.342627</td>\n      <td>0.553770</td>\n      <td>T</td>\n      <td>4.684443</td>\n    </tr>\n    <tr>\n      <th>94</th>\n      <td>1</td>\n      <td>1.321402</td>\n      <td>-0.543304</td>\n      <td>-1.593794</td>\n      <td>-1.024706</td>\n      <td>1.892548</td>\n      <td>1.890377</td>\n      <td>0.342627</td>\n      <td>-0.509907</td>\n      <td>F</td>\n      <td>5.143124</td>\n    </tr>\n    <tr>\n      <th>95</th>\n      <td>1</td>\n      <td>1.300290</td>\n      <td>0.338384</td>\n      <td>0.555266</td>\n      <td>1.004813</td>\n      <td>1.892548</td>\n      <td>1.242632</td>\n      <td>0.342627</td>\n      <td>1.972007</td>\n      <td>T</td>\n      <td>5.477509</td>\n    </tr>\n    <tr>\n      <th>96</th>\n      <td>1</td>\n      <td>1.800367</td>\n      <td>0.807764</td>\n      <td>0.555266</td>\n      <td>0.232904</td>\n      <td>1.892548</td>\n      <td>2.205279</td>\n      <td>0.342627</td>\n      <td>-0.155348</td>\n      <td>F</td>\n      <td>5.582932</td>\n    </tr>\n  </tbody>\n</table>\n<p>97 rows × 11 columns</p>\n</div>"
     },
     "execution_count": 120,
     "metadata": {},
     "output_type": "execute_result"
    }
   ],
   "source": [
    "# Load in data, target is lpsa\n",
    "prostate_df = pd.read_excel('Data/Prostate Cancer Data.xlsx', 'prostate').drop(columns=['Unnamed: 0'])\n",
    "pro_df_copy = prostate_df.copy()\n",
    "\n",
    "\n",
    "train_col = prostate_df.train  # Save training column\n",
    "lpsa_col = prostate_df.lpsa\n",
    "prostate_df = prostate_df.drop(columns=['train', 'lpsa'])\n",
    "prostate_df =(prostate_df-prostate_df.mean())/prostate_df.std()  # Standardize\n",
    "#prostate_df =(prostate_df-prostate_df.mean())/math.sqrt(96)  # Standardize\n",
    "prostate_df['train'] = train_col\n",
    "prostate_df['lpsa'] = lpsa_col\n",
    "\n",
    "prostate_df['intercept'] = 1  # add an intercept column and make it first\n",
    "prostate_df.insert(0, 'intercept', prostate_df.pop('intercept'))\n",
    "prostate_df"
   ],
   "metadata": {
    "collapsed": false,
    "ExecuteTime": {
     "end_time": "2024-06-05T18:39:29.393721300Z",
     "start_time": "2024-06-05T18:39:29.354070Z"
    }
   },
   "id": "13352e1316cfe5be",
   "execution_count": 120
  },
  {
   "cell_type": "code",
   "outputs": [],
   "source": [
    "prostate_df.to_pickle('Data/prostate.pkl')"
   ],
   "metadata": {
    "collapsed": false,
    "ExecuteTime": {
     "end_time": "2024-06-05T18:39:29.767435200Z",
     "start_time": "2024-06-05T18:39:29.761173800Z"
    }
   },
   "id": "847d93f38469425b",
   "execution_count": 121
  },
  {
   "cell_type": "code",
   "outputs": [],
   "source": [],
   "metadata": {
    "collapsed": false
   },
   "id": "ff0c190f0f33dc57"
  }
 ],
 "metadata": {
  "kernelspec": {
   "display_name": "Python 3",
   "language": "python",
   "name": "python3"
  },
  "language_info": {
   "codemirror_mode": {
    "name": "ipython",
    "version": 2
   },
   "file_extension": ".py",
   "mimetype": "text/x-python",
   "name": "python",
   "nbconvert_exporter": "python",
   "pygments_lexer": "ipython2",
   "version": "2.7.6"
  }
 },
 "nbformat": 4,
 "nbformat_minor": 5
}
