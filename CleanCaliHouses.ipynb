{
 "cells": [
  {
   "cell_type": "markdown",
   "source": [
    "# Clean Data\n",
    "\n",
    "Basic cleaning steps for California housing data\n",
    "\n",
    "Each row corresponds to a census area for 1990"
   ],
   "metadata": {
    "collapsed": false
   },
   "id": "c8eceb680bb988dd"
  },
  {
   "cell_type": "code",
   "execution_count": 73,
   "id": "initial_id",
   "metadata": {
    "collapsed": true,
    "ExecuteTime": {
     "end_time": "2024-06-05T18:02:09.510222400Z",
     "start_time": "2024-06-05T18:02:09.487568Z"
    }
   },
   "outputs": [],
   "source": [
    "import pandas as pd\n",
    "import numpy as np"
   ]
  },
  {
   "cell_type": "code",
   "outputs": [
    {
     "data": {
      "text/plain": "   longitude  latitude  housing_median_age  total_rooms  total_bedrooms  \\\n0    -122.23     37.88                41.0        880.0           129.0   \n1    -122.22     37.86                21.0       7099.0          1106.0   \n2    -122.24     37.85                52.0       1467.0           190.0   \n3    -122.25     37.85                52.0       1274.0           235.0   \n4    -122.25     37.85                52.0       1627.0           280.0   \n\n   population  households  median_income  median_house_value ocean_proximity  \n0       322.0       126.0         8.3252            452600.0        NEAR BAY  \n1      2401.0      1138.0         8.3014            358500.0        NEAR BAY  \n2       496.0       177.0         7.2574            352100.0        NEAR BAY  \n3       558.0       219.0         5.6431            341300.0        NEAR BAY  \n4       565.0       259.0         3.8462            342200.0        NEAR BAY  ",
      "text/html": "<div>\n<style scoped>\n    .dataframe tbody tr th:only-of-type {\n        vertical-align: middle;\n    }\n\n    .dataframe tbody tr th {\n        vertical-align: top;\n    }\n\n    .dataframe thead th {\n        text-align: right;\n    }\n</style>\n<table border=\"1\" class=\"dataframe\">\n  <thead>\n    <tr style=\"text-align: right;\">\n      <th></th>\n      <th>longitude</th>\n      <th>latitude</th>\n      <th>housing_median_age</th>\n      <th>total_rooms</th>\n      <th>total_bedrooms</th>\n      <th>population</th>\n      <th>households</th>\n      <th>median_income</th>\n      <th>median_house_value</th>\n      <th>ocean_proximity</th>\n    </tr>\n  </thead>\n  <tbody>\n    <tr>\n      <th>0</th>\n      <td>-122.23</td>\n      <td>37.88</td>\n      <td>41.0</td>\n      <td>880.0</td>\n      <td>129.0</td>\n      <td>322.0</td>\n      <td>126.0</td>\n      <td>8.3252</td>\n      <td>452600.0</td>\n      <td>NEAR BAY</td>\n    </tr>\n    <tr>\n      <th>1</th>\n      <td>-122.22</td>\n      <td>37.86</td>\n      <td>21.0</td>\n      <td>7099.0</td>\n      <td>1106.0</td>\n      <td>2401.0</td>\n      <td>1138.0</td>\n      <td>8.3014</td>\n      <td>358500.0</td>\n      <td>NEAR BAY</td>\n    </tr>\n    <tr>\n      <th>2</th>\n      <td>-122.24</td>\n      <td>37.85</td>\n      <td>52.0</td>\n      <td>1467.0</td>\n      <td>190.0</td>\n      <td>496.0</td>\n      <td>177.0</td>\n      <td>7.2574</td>\n      <td>352100.0</td>\n      <td>NEAR BAY</td>\n    </tr>\n    <tr>\n      <th>3</th>\n      <td>-122.25</td>\n      <td>37.85</td>\n      <td>52.0</td>\n      <td>1274.0</td>\n      <td>235.0</td>\n      <td>558.0</td>\n      <td>219.0</td>\n      <td>5.6431</td>\n      <td>341300.0</td>\n      <td>NEAR BAY</td>\n    </tr>\n    <tr>\n      <th>4</th>\n      <td>-122.25</td>\n      <td>37.85</td>\n      <td>52.0</td>\n      <td>1627.0</td>\n      <td>280.0</td>\n      <td>565.0</td>\n      <td>259.0</td>\n      <td>3.8462</td>\n      <td>342200.0</td>\n      <td>NEAR BAY</td>\n    </tr>\n  </tbody>\n</table>\n</div>"
     },
     "execution_count": 54,
     "metadata": {},
     "output_type": "execute_result"
    }
   ],
   "source": [
    "df = pd.read_csv('Data/CA_housing.csv')\n",
    "df.head()"
   ],
   "metadata": {
    "collapsed": false,
    "ExecuteTime": {
     "end_time": "2024-06-05T17:50:30.403943100Z",
     "start_time": "2024-06-05T17:50:30.349443900Z"
    }
   },
   "id": "2541fa3276cdfcbe",
   "execution_count": 54
  },
  {
   "cell_type": "code",
   "outputs": [
    {
     "name": "stdout",
     "output_type": "stream",
     "text": [
      "Shape: (20640, 10) \n",
      "\n",
      "longitude             float64\n",
      "latitude              float64\n",
      "housing_median_age    float64\n",
      "total_rooms           float64\n",
      "total_bedrooms        float64\n",
      "population            float64\n",
      "households            float64\n",
      "median_income         float64\n",
      "median_house_value    float64\n",
      "ocean_proximity        object\n",
      "dtype: object \n",
      "\n",
      "Has missing values: longitude             False\n",
      "latitude              False\n",
      "housing_median_age    False\n",
      "total_rooms           False\n",
      "total_bedrooms         True\n",
      "population            False\n",
      "households            False\n",
      "median_income         False\n",
      "median_house_value    False\n",
      "ocean_proximity       False\n",
      "dtype: bool \n",
      "\n",
      "          longitude      latitude  housing_median_age   total_rooms  \\\n",
      "count  20640.000000  20640.000000        20640.000000  20640.000000   \n",
      "mean    -119.569704     35.631861           28.639486   2635.763081   \n",
      "std        2.003532      2.135952           12.585558   2181.615252   \n",
      "min     -124.350000     32.540000            1.000000      2.000000   \n",
      "25%     -121.800000     33.930000           18.000000   1447.750000   \n",
      "50%     -118.490000     34.260000           29.000000   2127.000000   \n",
      "75%     -118.010000     37.710000           37.000000   3148.000000   \n",
      "max     -114.310000     41.950000           52.000000  39320.000000   \n",
      "\n",
      "       total_bedrooms    population    households  median_income  \\\n",
      "count    20433.000000  20640.000000  20640.000000   20640.000000   \n",
      "mean       537.870553   1425.476744    499.539680       3.870671   \n",
      "std        421.385070   1132.462122    382.329753       1.899822   \n",
      "min          1.000000      3.000000      1.000000       0.499900   \n",
      "25%        296.000000    787.000000    280.000000       2.563400   \n",
      "50%        435.000000   1166.000000    409.000000       3.534800   \n",
      "75%        647.000000   1725.000000    605.000000       4.743250   \n",
      "max       6445.000000  35682.000000   6082.000000      15.000100   \n",
      "\n",
      "       median_house_value  \n",
      "count        20640.000000  \n",
      "mean        206855.816909  \n",
      "std         115395.615874  \n",
      "min          14999.000000  \n",
      "25%         119600.000000  \n",
      "50%         179700.000000  \n",
      "75%         264725.000000  \n",
      "max         500001.000000  \n"
     ]
    }
   ],
   "source": [
    "print('Shape:', df.shape, '\\n')\n",
    "print(df.dtypes,'\\n')\n",
    "print('Has missing values:', df.isnull().any(), '\\n')\n",
    "print(df.describe())"
   ],
   "metadata": {
    "collapsed": false,
    "ExecuteTime": {
     "end_time": "2024-06-05T17:50:31.095639100Z",
     "start_time": "2024-06-05T17:50:31.031795Z"
    }
   },
   "id": "d7b37bd61276f271",
   "execution_count": 55
  },
  {
   "cell_type": "markdown",
   "source": [
    "Ok, looks like we need to address the missing values for total_bedrooms, change ocean proximity to one hot encoding, and potentially drop some outliers\n",
    "\n",
    "Let's do the one hot encoding first"
   ],
   "metadata": {
    "collapsed": false
   },
   "id": "8dcf43040e79641f"
  },
  {
   "cell_type": "code",
   "outputs": [
    {
     "data": {
      "text/plain": "ocean_proximity\n<1H OCEAN     9136\nINLAND        6551\nNEAR OCEAN    2658\nNEAR BAY      2290\nISLAND           5\nName: count, dtype: int64"
     },
     "execution_count": 56,
     "metadata": {},
     "output_type": "execute_result"
    }
   ],
   "source": [
    "df.ocean_proximity.value_counts()"
   ],
   "metadata": {
    "collapsed": false,
    "ExecuteTime": {
     "end_time": "2024-06-05T17:50:32.249570100Z",
     "start_time": "2024-06-05T17:50:32.242342300Z"
    }
   },
   "id": "93fb468095e09d1",
   "execution_count": 56
  },
  {
   "cell_type": "code",
   "outputs": [
    {
     "data": {
      "text/plain": "   longitude  latitude  housing_median_age  total_rooms  total_bedrooms  \\\n0    -122.23     37.88                41.0        880.0           129.0   \n1    -122.22     37.86                21.0       7099.0          1106.0   \n2    -122.24     37.85                52.0       1467.0           190.0   \n3    -122.25     37.85                52.0       1274.0           235.0   \n4    -122.25     37.85                52.0       1627.0           280.0   \n\n   population  households  median_income  median_house_value  INLAND  ISLAND  \\\n0       322.0       126.0         8.3252            452600.0     0.0     0.0   \n1      2401.0      1138.0         8.3014            358500.0     0.0     0.0   \n2       496.0       177.0         7.2574            352100.0     0.0     0.0   \n3       558.0       219.0         5.6431            341300.0     0.0     0.0   \n4       565.0       259.0         3.8462            342200.0     0.0     0.0   \n\n   NEAR BAY  NEAR OCEAN  \n0       1.0         0.0  \n1       1.0         0.0  \n2       1.0         0.0  \n3       1.0         0.0  \n4       1.0         0.0  ",
      "text/html": "<div>\n<style scoped>\n    .dataframe tbody tr th:only-of-type {\n        vertical-align: middle;\n    }\n\n    .dataframe tbody tr th {\n        vertical-align: top;\n    }\n\n    .dataframe thead th {\n        text-align: right;\n    }\n</style>\n<table border=\"1\" class=\"dataframe\">\n  <thead>\n    <tr style=\"text-align: right;\">\n      <th></th>\n      <th>longitude</th>\n      <th>latitude</th>\n      <th>housing_median_age</th>\n      <th>total_rooms</th>\n      <th>total_bedrooms</th>\n      <th>population</th>\n      <th>households</th>\n      <th>median_income</th>\n      <th>median_house_value</th>\n      <th>INLAND</th>\n      <th>ISLAND</th>\n      <th>NEAR BAY</th>\n      <th>NEAR OCEAN</th>\n    </tr>\n  </thead>\n  <tbody>\n    <tr>\n      <th>0</th>\n      <td>-122.23</td>\n      <td>37.88</td>\n      <td>41.0</td>\n      <td>880.0</td>\n      <td>129.0</td>\n      <td>322.0</td>\n      <td>126.0</td>\n      <td>8.3252</td>\n      <td>452600.0</td>\n      <td>0.0</td>\n      <td>0.0</td>\n      <td>1.0</td>\n      <td>0.0</td>\n    </tr>\n    <tr>\n      <th>1</th>\n      <td>-122.22</td>\n      <td>37.86</td>\n      <td>21.0</td>\n      <td>7099.0</td>\n      <td>1106.0</td>\n      <td>2401.0</td>\n      <td>1138.0</td>\n      <td>8.3014</td>\n      <td>358500.0</td>\n      <td>0.0</td>\n      <td>0.0</td>\n      <td>1.0</td>\n      <td>0.0</td>\n    </tr>\n    <tr>\n      <th>2</th>\n      <td>-122.24</td>\n      <td>37.85</td>\n      <td>52.0</td>\n      <td>1467.0</td>\n      <td>190.0</td>\n      <td>496.0</td>\n      <td>177.0</td>\n      <td>7.2574</td>\n      <td>352100.0</td>\n      <td>0.0</td>\n      <td>0.0</td>\n      <td>1.0</td>\n      <td>0.0</td>\n    </tr>\n    <tr>\n      <th>3</th>\n      <td>-122.25</td>\n      <td>37.85</td>\n      <td>52.0</td>\n      <td>1274.0</td>\n      <td>235.0</td>\n      <td>558.0</td>\n      <td>219.0</td>\n      <td>5.6431</td>\n      <td>341300.0</td>\n      <td>0.0</td>\n      <td>0.0</td>\n      <td>1.0</td>\n      <td>0.0</td>\n    </tr>\n    <tr>\n      <th>4</th>\n      <td>-122.25</td>\n      <td>37.85</td>\n      <td>52.0</td>\n      <td>1627.0</td>\n      <td>280.0</td>\n      <td>565.0</td>\n      <td>259.0</td>\n      <td>3.8462</td>\n      <td>342200.0</td>\n      <td>0.0</td>\n      <td>0.0</td>\n      <td>1.0</td>\n      <td>0.0</td>\n    </tr>\n  </tbody>\n</table>\n</div>"
     },
     "execution_count": 57,
     "metadata": {},
     "output_type": "execute_result"
    }
   ],
   "source": [
    "one_hot = pd.get_dummies(df['ocean_proximity'],dtype='float64', drop_first=True)\n",
    "df = df.drop('ocean_proximity',axis = 1)\n",
    "\n",
    "df = df.join(one_hot)\n",
    "df.head()"
   ],
   "metadata": {
    "collapsed": false,
    "ExecuteTime": {
     "end_time": "2024-06-05T17:50:32.802242100Z",
     "start_time": "2024-06-05T17:50:32.782735800Z"
    }
   },
   "id": "4ef7f30214f04336",
   "execution_count": 57
  },
  {
   "cell_type": "markdown",
   "source": [
    "Now let's address the nulls"
   ],
   "metadata": {
    "collapsed": false
   },
   "id": "e753080e685642b1"
  },
  {
   "cell_type": "code",
   "outputs": [
    {
     "data": {
      "text/plain": "       longitude  latitude  housing_median_age  total_rooms  total_bedrooms  \\\n290      -122.16     37.77                47.0       1256.0             NaN   \n341      -122.17     37.75                38.0        992.0             NaN   \n538      -122.28     37.78                29.0       5154.0             NaN   \n563      -122.24     37.75                45.0        891.0             NaN   \n696      -122.10     37.69                41.0        746.0             NaN   \n...          ...       ...                 ...          ...             ...   \n20267    -119.19     34.20                18.0       3620.0             NaN   \n20268    -119.18     34.19                19.0       2393.0             NaN   \n20372    -118.88     34.17                15.0       4260.0             NaN   \n20460    -118.75     34.29                17.0       5512.0             NaN   \n20484    -118.72     34.28                17.0       3051.0             NaN   \n\n       population  households  median_income  median_house_value  INLAND  \\\n290         570.0       218.0         4.3750            161900.0     0.0   \n341         732.0       259.0         1.6196             85100.0     0.0   \n538        3741.0      1273.0         2.5762            173400.0     0.0   \n563         384.0       146.0         4.9489            247100.0     0.0   \n696         387.0       161.0         3.9063            178400.0     0.0   \n...           ...         ...            ...                 ...     ...   \n20267      3171.0       779.0         3.3409            220500.0     0.0   \n20268      1938.0       762.0         1.6953            167400.0     0.0   \n20372      1701.0       669.0         5.1033            410700.0     0.0   \n20460      2734.0       814.0         6.6073            258100.0     0.0   \n20484      1705.0       495.0         5.7376            218600.0     0.0   \n\n       ISLAND  NEAR BAY  NEAR OCEAN  \n290       0.0       1.0         0.0  \n341       0.0       1.0         0.0  \n538       0.0       1.0         0.0  \n563       0.0       1.0         0.0  \n696       0.0       1.0         0.0  \n...       ...       ...         ...  \n20267     0.0       0.0         1.0  \n20268     0.0       0.0         1.0  \n20372     0.0       0.0         0.0  \n20460     0.0       0.0         0.0  \n20484     0.0       0.0         0.0  \n\n[207 rows x 13 columns]",
      "text/html": "<div>\n<style scoped>\n    .dataframe tbody tr th:only-of-type {\n        vertical-align: middle;\n    }\n\n    .dataframe tbody tr th {\n        vertical-align: top;\n    }\n\n    .dataframe thead th {\n        text-align: right;\n    }\n</style>\n<table border=\"1\" class=\"dataframe\">\n  <thead>\n    <tr style=\"text-align: right;\">\n      <th></th>\n      <th>longitude</th>\n      <th>latitude</th>\n      <th>housing_median_age</th>\n      <th>total_rooms</th>\n      <th>total_bedrooms</th>\n      <th>population</th>\n      <th>households</th>\n      <th>median_income</th>\n      <th>median_house_value</th>\n      <th>INLAND</th>\n      <th>ISLAND</th>\n      <th>NEAR BAY</th>\n      <th>NEAR OCEAN</th>\n    </tr>\n  </thead>\n  <tbody>\n    <tr>\n      <th>290</th>\n      <td>-122.16</td>\n      <td>37.77</td>\n      <td>47.0</td>\n      <td>1256.0</td>\n      <td>NaN</td>\n      <td>570.0</td>\n      <td>218.0</td>\n      <td>4.3750</td>\n      <td>161900.0</td>\n      <td>0.0</td>\n      <td>0.0</td>\n      <td>1.0</td>\n      <td>0.0</td>\n    </tr>\n    <tr>\n      <th>341</th>\n      <td>-122.17</td>\n      <td>37.75</td>\n      <td>38.0</td>\n      <td>992.0</td>\n      <td>NaN</td>\n      <td>732.0</td>\n      <td>259.0</td>\n      <td>1.6196</td>\n      <td>85100.0</td>\n      <td>0.0</td>\n      <td>0.0</td>\n      <td>1.0</td>\n      <td>0.0</td>\n    </tr>\n    <tr>\n      <th>538</th>\n      <td>-122.28</td>\n      <td>37.78</td>\n      <td>29.0</td>\n      <td>5154.0</td>\n      <td>NaN</td>\n      <td>3741.0</td>\n      <td>1273.0</td>\n      <td>2.5762</td>\n      <td>173400.0</td>\n      <td>0.0</td>\n      <td>0.0</td>\n      <td>1.0</td>\n      <td>0.0</td>\n    </tr>\n    <tr>\n      <th>563</th>\n      <td>-122.24</td>\n      <td>37.75</td>\n      <td>45.0</td>\n      <td>891.0</td>\n      <td>NaN</td>\n      <td>384.0</td>\n      <td>146.0</td>\n      <td>4.9489</td>\n      <td>247100.0</td>\n      <td>0.0</td>\n      <td>0.0</td>\n      <td>1.0</td>\n      <td>0.0</td>\n    </tr>\n    <tr>\n      <th>696</th>\n      <td>-122.10</td>\n      <td>37.69</td>\n      <td>41.0</td>\n      <td>746.0</td>\n      <td>NaN</td>\n      <td>387.0</td>\n      <td>161.0</td>\n      <td>3.9063</td>\n      <td>178400.0</td>\n      <td>0.0</td>\n      <td>0.0</td>\n      <td>1.0</td>\n      <td>0.0</td>\n    </tr>\n    <tr>\n      <th>...</th>\n      <td>...</td>\n      <td>...</td>\n      <td>...</td>\n      <td>...</td>\n      <td>...</td>\n      <td>...</td>\n      <td>...</td>\n      <td>...</td>\n      <td>...</td>\n      <td>...</td>\n      <td>...</td>\n      <td>...</td>\n      <td>...</td>\n    </tr>\n    <tr>\n      <th>20267</th>\n      <td>-119.19</td>\n      <td>34.20</td>\n      <td>18.0</td>\n      <td>3620.0</td>\n      <td>NaN</td>\n      <td>3171.0</td>\n      <td>779.0</td>\n      <td>3.3409</td>\n      <td>220500.0</td>\n      <td>0.0</td>\n      <td>0.0</td>\n      <td>0.0</td>\n      <td>1.0</td>\n    </tr>\n    <tr>\n      <th>20268</th>\n      <td>-119.18</td>\n      <td>34.19</td>\n      <td>19.0</td>\n      <td>2393.0</td>\n      <td>NaN</td>\n      <td>1938.0</td>\n      <td>762.0</td>\n      <td>1.6953</td>\n      <td>167400.0</td>\n      <td>0.0</td>\n      <td>0.0</td>\n      <td>0.0</td>\n      <td>1.0</td>\n    </tr>\n    <tr>\n      <th>20372</th>\n      <td>-118.88</td>\n      <td>34.17</td>\n      <td>15.0</td>\n      <td>4260.0</td>\n      <td>NaN</td>\n      <td>1701.0</td>\n      <td>669.0</td>\n      <td>5.1033</td>\n      <td>410700.0</td>\n      <td>0.0</td>\n      <td>0.0</td>\n      <td>0.0</td>\n      <td>0.0</td>\n    </tr>\n    <tr>\n      <th>20460</th>\n      <td>-118.75</td>\n      <td>34.29</td>\n      <td>17.0</td>\n      <td>5512.0</td>\n      <td>NaN</td>\n      <td>2734.0</td>\n      <td>814.0</td>\n      <td>6.6073</td>\n      <td>258100.0</td>\n      <td>0.0</td>\n      <td>0.0</td>\n      <td>0.0</td>\n      <td>0.0</td>\n    </tr>\n    <tr>\n      <th>20484</th>\n      <td>-118.72</td>\n      <td>34.28</td>\n      <td>17.0</td>\n      <td>3051.0</td>\n      <td>NaN</td>\n      <td>1705.0</td>\n      <td>495.0</td>\n      <td>5.7376</td>\n      <td>218600.0</td>\n      <td>0.0</td>\n      <td>0.0</td>\n      <td>0.0</td>\n      <td>0.0</td>\n    </tr>\n  </tbody>\n</table>\n<p>207 rows × 13 columns</p>\n</div>"
     },
     "execution_count": 58,
     "metadata": {},
     "output_type": "execute_result"
    }
   ],
   "source": [
    "df[df.isnull().any(axis=1)]"
   ],
   "metadata": {
    "collapsed": false,
    "ExecuteTime": {
     "end_time": "2024-06-05T17:50:33.913684100Z",
     "start_time": "2024-06-05T17:50:33.893950300Z"
    }
   },
   "id": "82b008cf4463971c",
   "execution_count": 58
  },
  {
   "cell_type": "markdown",
   "source": [
    "I will just drop these values since it is a very small percent of the data"
   ],
   "metadata": {
    "collapsed": false
   },
   "id": "c28022c3340ae5c2"
  },
  {
   "cell_type": "code",
   "outputs": [],
   "source": [
    "df.dropna(inplace=True)"
   ],
   "metadata": {
    "collapsed": false,
    "ExecuteTime": {
     "end_time": "2024-06-05T17:50:35.094705300Z",
     "start_time": "2024-06-05T17:50:35.087350600Z"
    }
   },
   "id": "a826b3d65c855c99",
   "execution_count": 59
  },
  {
   "cell_type": "markdown",
   "source": [
    "Now for outliers, which I will not remove but just want to get an idea of how many low population areas there are"
   ],
   "metadata": {
    "collapsed": false
   },
   "id": "e9a82e291882cc05"
  },
  {
   "cell_type": "code",
   "outputs": [
    {
     "data": {
      "text/plain": "169.64"
     },
     "execution_count": 64,
     "metadata": {},
     "output_type": "execute_result"
    }
   ],
   "source": [
    "df.population.quantile(0.02)"
   ],
   "metadata": {
    "collapsed": false,
    "ExecuteTime": {
     "end_time": "2024-06-05T17:52:19.020968600Z",
     "start_time": "2024-06-05T17:52:19.015058Z"
    }
   },
   "id": "173576211a6800bb",
   "execution_count": 64
  },
  {
   "cell_type": "code",
   "outputs": [
    {
     "data": {
      "text/plain": "58.0"
     },
     "execution_count": 65,
     "metadata": {},
     "output_type": "execute_result"
    }
   ],
   "source": [
    "df.households.quantile(0.02)"
   ],
   "metadata": {
    "collapsed": false,
    "ExecuteTime": {
     "end_time": "2024-06-05T17:52:19.469318600Z",
     "start_time": "2024-06-05T17:52:19.461655200Z"
    }
   },
   "id": "96950379dc0c9776",
   "execution_count": 65
  },
  {
   "cell_type": "code",
   "outputs": [
    {
     "data": {
      "text/plain": "       longitude  latitude  housing_median_age  total_rooms  total_bedrooms  \\\n73       -122.29     37.81                46.0         12.0             4.0   \n1419     -122.05     37.97                16.0         60.0            10.0   \n1566     -121.96     37.74                 2.0        200.0            20.0   \n1633     -122.22     37.88                20.0         95.0            13.0   \n1721     -122.39     38.00                33.0         44.0             6.0   \n...          ...       ...                 ...          ...             ...   \n20181    -119.32     34.35                16.0         52.0            16.0   \n20248    -119.23     34.25                28.0         26.0             3.0   \n20352    -119.09     34.22                 8.0         40.0            10.0   \n20353    -119.05     34.13                12.0         57.0            22.0   \n20625    -121.52     39.12                37.0        102.0            17.0   \n\n       population  households  median_income  median_house_value  INLAND  \\\n73           18.0         7.0         0.4999             67500.0     0.0   \n1419         65.0        19.0         6.1359            250000.0     0.0   \n1566         25.0         9.0        15.0001            350000.0     0.0   \n1633         31.0        15.0         2.4444            475000.0     0.0   \n1721         23.0        11.0         4.1250            212500.0     0.0   \n...           ...         ...            ...                 ...     ...   \n20181        51.0        15.0         2.4750            225000.0     0.0   \n20248        29.0         9.0         8.0000            275000.0     0.0   \n20352       309.0        16.0         4.0208             52500.0     0.0   \n20353        69.0        15.0         5.0066            275000.0     0.0   \n20625        29.0        14.0         4.1250             72000.0     1.0   \n\n       ISLAND  NEAR BAY  NEAR OCEAN  \n73        0.0       1.0         0.0  \n1419      0.0       1.0         0.0  \n1566      0.0       0.0         0.0  \n1633      0.0       1.0         0.0  \n1721      0.0       1.0         0.0  \n...       ...       ...         ...  \n20181     0.0       0.0         1.0  \n20248     0.0       0.0         1.0  \n20352     0.0       0.0         1.0  \n20353     0.0       0.0         1.0  \n20625     0.0       0.0         0.0  \n\n[118 rows x 13 columns]",
      "text/html": "<div>\n<style scoped>\n    .dataframe tbody tr th:only-of-type {\n        vertical-align: middle;\n    }\n\n    .dataframe tbody tr th {\n        vertical-align: top;\n    }\n\n    .dataframe thead th {\n        text-align: right;\n    }\n</style>\n<table border=\"1\" class=\"dataframe\">\n  <thead>\n    <tr style=\"text-align: right;\">\n      <th></th>\n      <th>longitude</th>\n      <th>latitude</th>\n      <th>housing_median_age</th>\n      <th>total_rooms</th>\n      <th>total_bedrooms</th>\n      <th>population</th>\n      <th>households</th>\n      <th>median_income</th>\n      <th>median_house_value</th>\n      <th>INLAND</th>\n      <th>ISLAND</th>\n      <th>NEAR BAY</th>\n      <th>NEAR OCEAN</th>\n    </tr>\n  </thead>\n  <tbody>\n    <tr>\n      <th>73</th>\n      <td>-122.29</td>\n      <td>37.81</td>\n      <td>46.0</td>\n      <td>12.0</td>\n      <td>4.0</td>\n      <td>18.0</td>\n      <td>7.0</td>\n      <td>0.4999</td>\n      <td>67500.0</td>\n      <td>0.0</td>\n      <td>0.0</td>\n      <td>1.0</td>\n      <td>0.0</td>\n    </tr>\n    <tr>\n      <th>1419</th>\n      <td>-122.05</td>\n      <td>37.97</td>\n      <td>16.0</td>\n      <td>60.0</td>\n      <td>10.0</td>\n      <td>65.0</td>\n      <td>19.0</td>\n      <td>6.1359</td>\n      <td>250000.0</td>\n      <td>0.0</td>\n      <td>0.0</td>\n      <td>1.0</td>\n      <td>0.0</td>\n    </tr>\n    <tr>\n      <th>1566</th>\n      <td>-121.96</td>\n      <td>37.74</td>\n      <td>2.0</td>\n      <td>200.0</td>\n      <td>20.0</td>\n      <td>25.0</td>\n      <td>9.0</td>\n      <td>15.0001</td>\n      <td>350000.0</td>\n      <td>0.0</td>\n      <td>0.0</td>\n      <td>0.0</td>\n      <td>0.0</td>\n    </tr>\n    <tr>\n      <th>1633</th>\n      <td>-122.22</td>\n      <td>37.88</td>\n      <td>20.0</td>\n      <td>95.0</td>\n      <td>13.0</td>\n      <td>31.0</td>\n      <td>15.0</td>\n      <td>2.4444</td>\n      <td>475000.0</td>\n      <td>0.0</td>\n      <td>0.0</td>\n      <td>1.0</td>\n      <td>0.0</td>\n    </tr>\n    <tr>\n      <th>1721</th>\n      <td>-122.39</td>\n      <td>38.00</td>\n      <td>33.0</td>\n      <td>44.0</td>\n      <td>6.0</td>\n      <td>23.0</td>\n      <td>11.0</td>\n      <td>4.1250</td>\n      <td>212500.0</td>\n      <td>0.0</td>\n      <td>0.0</td>\n      <td>1.0</td>\n      <td>0.0</td>\n    </tr>\n    <tr>\n      <th>...</th>\n      <td>...</td>\n      <td>...</td>\n      <td>...</td>\n      <td>...</td>\n      <td>...</td>\n      <td>...</td>\n      <td>...</td>\n      <td>...</td>\n      <td>...</td>\n      <td>...</td>\n      <td>...</td>\n      <td>...</td>\n      <td>...</td>\n    </tr>\n    <tr>\n      <th>20181</th>\n      <td>-119.32</td>\n      <td>34.35</td>\n      <td>16.0</td>\n      <td>52.0</td>\n      <td>16.0</td>\n      <td>51.0</td>\n      <td>15.0</td>\n      <td>2.4750</td>\n      <td>225000.0</td>\n      <td>0.0</td>\n      <td>0.0</td>\n      <td>0.0</td>\n      <td>1.0</td>\n    </tr>\n    <tr>\n      <th>20248</th>\n      <td>-119.23</td>\n      <td>34.25</td>\n      <td>28.0</td>\n      <td>26.0</td>\n      <td>3.0</td>\n      <td>29.0</td>\n      <td>9.0</td>\n      <td>8.0000</td>\n      <td>275000.0</td>\n      <td>0.0</td>\n      <td>0.0</td>\n      <td>0.0</td>\n      <td>1.0</td>\n    </tr>\n    <tr>\n      <th>20352</th>\n      <td>-119.09</td>\n      <td>34.22</td>\n      <td>8.0</td>\n      <td>40.0</td>\n      <td>10.0</td>\n      <td>309.0</td>\n      <td>16.0</td>\n      <td>4.0208</td>\n      <td>52500.0</td>\n      <td>0.0</td>\n      <td>0.0</td>\n      <td>0.0</td>\n      <td>1.0</td>\n    </tr>\n    <tr>\n      <th>20353</th>\n      <td>-119.05</td>\n      <td>34.13</td>\n      <td>12.0</td>\n      <td>57.0</td>\n      <td>22.0</td>\n      <td>69.0</td>\n      <td>15.0</td>\n      <td>5.0066</td>\n      <td>275000.0</td>\n      <td>0.0</td>\n      <td>0.0</td>\n      <td>0.0</td>\n      <td>1.0</td>\n    </tr>\n    <tr>\n      <th>20625</th>\n      <td>-121.52</td>\n      <td>39.12</td>\n      <td>37.0</td>\n      <td>102.0</td>\n      <td>17.0</td>\n      <td>29.0</td>\n      <td>14.0</td>\n      <td>4.1250</td>\n      <td>72000.0</td>\n      <td>1.0</td>\n      <td>0.0</td>\n      <td>0.0</td>\n      <td>0.0</td>\n    </tr>\n  </tbody>\n</table>\n<p>118 rows × 13 columns</p>\n</div>"
     },
     "execution_count": 66,
     "metadata": {},
     "output_type": "execute_result"
    }
   ],
   "source": [
    "df.query('households < 20')"
   ],
   "metadata": {
    "collapsed": false,
    "ExecuteTime": {
     "end_time": "2024-06-05T17:52:20.512976600Z",
     "start_time": "2024-06-05T17:52:20.479034500Z"
    }
   },
   "id": "24996f9c72cd42d0",
   "execution_count": 66
  },
  {
   "cell_type": "code",
   "outputs": [
    {
     "data": {
      "text/plain": "          longitude      latitude  housing_median_age   total_rooms  \\\ncount  20200.000000  20200.000000        20200.000000  20200.000000   \nmean    -119.568155     35.626089           28.630495   2664.480149   \nstd        2.001672      2.134220           12.554341   2181.784200   \nmin     -124.350000     32.540000            1.000000     19.000000   \n25%     -121.790000     33.930000           18.000000   1471.000000   \n50%     -118.490000     34.250000           29.000000   2145.000000   \n75%     -118.010000     37.710000           37.000000   3161.000000   \nmax     -114.310000     41.950000           52.000000  39320.000000   \n\n       total_bedrooms    population    households  median_income  \\\ncount    20200.000000  20200.000000  20200.000000   20200.000000   \nmean       543.538317   1440.765198    504.945495       3.870819   \nstd        420.373963   1130.054382    381.014733       1.881940   \nmin          5.000000    100.000000      6.000000       0.499900   \n25%        300.000000    800.000000    284.000000       2.568050   \n50%        438.000000   1175.000000    412.000000       3.538950   \n75%        650.250000   1732.000000    607.000000       4.744075   \nmax       6445.000000  35682.000000   6082.000000      15.000100   \n\n       median_house_value        INLAND        ISLAND      NEAR BAY  \\\ncount        20200.000000  20200.000000  20200.000000  20200.000000   \nmean        207033.586287      0.315396      0.000248      0.110891   \nstd         115276.261083      0.464685      0.015731      0.314005   \nmin          14999.000000      0.000000      0.000000      0.000000   \n25%         120000.000000      0.000000      0.000000      0.000000   \n50%         180000.000000      0.000000      0.000000      0.000000   \n75%         264900.000000      1.000000      0.000000      0.000000   \nmax         500001.000000      1.000000      1.000000      1.000000   \n\n         NEAR OCEAN  \ncount  20200.000000  \nmean       0.128911  \nstd        0.335110  \nmin        0.000000  \n25%        0.000000  \n50%        0.000000  \n75%        0.000000  \nmax        1.000000  ",
      "text/html": "<div>\n<style scoped>\n    .dataframe tbody tr th:only-of-type {\n        vertical-align: middle;\n    }\n\n    .dataframe tbody tr th {\n        vertical-align: top;\n    }\n\n    .dataframe thead th {\n        text-align: right;\n    }\n</style>\n<table border=\"1\" class=\"dataframe\">\n  <thead>\n    <tr style=\"text-align: right;\">\n      <th></th>\n      <th>longitude</th>\n      <th>latitude</th>\n      <th>housing_median_age</th>\n      <th>total_rooms</th>\n      <th>total_bedrooms</th>\n      <th>population</th>\n      <th>households</th>\n      <th>median_income</th>\n      <th>median_house_value</th>\n      <th>INLAND</th>\n      <th>ISLAND</th>\n      <th>NEAR BAY</th>\n      <th>NEAR OCEAN</th>\n    </tr>\n  </thead>\n  <tbody>\n    <tr>\n      <th>count</th>\n      <td>20200.000000</td>\n      <td>20200.000000</td>\n      <td>20200.000000</td>\n      <td>20200.000000</td>\n      <td>20200.000000</td>\n      <td>20200.000000</td>\n      <td>20200.000000</td>\n      <td>20200.000000</td>\n      <td>20200.000000</td>\n      <td>20200.000000</td>\n      <td>20200.000000</td>\n      <td>20200.000000</td>\n      <td>20200.000000</td>\n    </tr>\n    <tr>\n      <th>mean</th>\n      <td>-119.568155</td>\n      <td>35.626089</td>\n      <td>28.630495</td>\n      <td>2664.480149</td>\n      <td>543.538317</td>\n      <td>1440.765198</td>\n      <td>504.945495</td>\n      <td>3.870819</td>\n      <td>207033.586287</td>\n      <td>0.315396</td>\n      <td>0.000248</td>\n      <td>0.110891</td>\n      <td>0.128911</td>\n    </tr>\n    <tr>\n      <th>std</th>\n      <td>2.001672</td>\n      <td>2.134220</td>\n      <td>12.554341</td>\n      <td>2181.784200</td>\n      <td>420.373963</td>\n      <td>1130.054382</td>\n      <td>381.014733</td>\n      <td>1.881940</td>\n      <td>115276.261083</td>\n      <td>0.464685</td>\n      <td>0.015731</td>\n      <td>0.314005</td>\n      <td>0.335110</td>\n    </tr>\n    <tr>\n      <th>min</th>\n      <td>-124.350000</td>\n      <td>32.540000</td>\n      <td>1.000000</td>\n      <td>19.000000</td>\n      <td>5.000000</td>\n      <td>100.000000</td>\n      <td>6.000000</td>\n      <td>0.499900</td>\n      <td>14999.000000</td>\n      <td>0.000000</td>\n      <td>0.000000</td>\n      <td>0.000000</td>\n      <td>0.000000</td>\n    </tr>\n    <tr>\n      <th>25%</th>\n      <td>-121.790000</td>\n      <td>33.930000</td>\n      <td>18.000000</td>\n      <td>1471.000000</td>\n      <td>300.000000</td>\n      <td>800.000000</td>\n      <td>284.000000</td>\n      <td>2.568050</td>\n      <td>120000.000000</td>\n      <td>0.000000</td>\n      <td>0.000000</td>\n      <td>0.000000</td>\n      <td>0.000000</td>\n    </tr>\n    <tr>\n      <th>50%</th>\n      <td>-118.490000</td>\n      <td>34.250000</td>\n      <td>29.000000</td>\n      <td>2145.000000</td>\n      <td>438.000000</td>\n      <td>1175.000000</td>\n      <td>412.000000</td>\n      <td>3.538950</td>\n      <td>180000.000000</td>\n      <td>0.000000</td>\n      <td>0.000000</td>\n      <td>0.000000</td>\n      <td>0.000000</td>\n    </tr>\n    <tr>\n      <th>75%</th>\n      <td>-118.010000</td>\n      <td>37.710000</td>\n      <td>37.000000</td>\n      <td>3161.000000</td>\n      <td>650.250000</td>\n      <td>1732.000000</td>\n      <td>607.000000</td>\n      <td>4.744075</td>\n      <td>264900.000000</td>\n      <td>1.000000</td>\n      <td>0.000000</td>\n      <td>0.000000</td>\n      <td>0.000000</td>\n    </tr>\n    <tr>\n      <th>max</th>\n      <td>-114.310000</td>\n      <td>41.950000</td>\n      <td>52.000000</td>\n      <td>39320.000000</td>\n      <td>6445.000000</td>\n      <td>35682.000000</td>\n      <td>6082.000000</td>\n      <td>15.000100</td>\n      <td>500001.000000</td>\n      <td>1.000000</td>\n      <td>1.000000</td>\n      <td>1.000000</td>\n      <td>1.000000</td>\n    </tr>\n  </tbody>\n</table>\n</div>"
     },
     "execution_count": 37,
     "metadata": {},
     "output_type": "execute_result"
    }
   ],
   "source": [
    "df.describe()"
   ],
   "metadata": {
    "collapsed": false,
    "ExecuteTime": {
     "end_time": "2024-06-05T04:11:46.820178700Z",
     "start_time": "2024-06-05T04:11:46.787390400Z"
    }
   },
   "id": "cb704a8cc38da407",
   "execution_count": 37
  },
  {
   "cell_type": "markdown",
   "source": [
    "Now standardizing the data, for now I will be standardizing the one hot encoding, but will explore the difference in doing that vs not"
   ],
   "metadata": {
    "collapsed": false
   },
   "id": "697bf6ba50e11497"
  },
  {
   "cell_type": "code",
   "outputs": [],
   "source": [
    "df = (df-df.mean())/df.std()\n",
    "\n",
    "df.to_pickle('Data/CA_housing.pkl')"
   ],
   "metadata": {
    "collapsed": false,
    "ExecuteTime": {
     "end_time": "2024-06-05T18:17:02.876718300Z",
     "start_time": "2024-06-05T18:17:02.840338100Z"
    }
   },
   "id": "fe9904f480849e27",
   "execution_count": 82
  }
 ],
 "metadata": {
  "kernelspec": {
   "display_name": "Python 3",
   "language": "python",
   "name": "python3"
  },
  "language_info": {
   "codemirror_mode": {
    "name": "ipython",
    "version": 2
   },
   "file_extension": ".py",
   "mimetype": "text/x-python",
   "name": "python",
   "nbconvert_exporter": "python",
   "pygments_lexer": "ipython2",
   "version": "2.7.6"
  }
 },
 "nbformat": 4,
 "nbformat_minor": 5
}
