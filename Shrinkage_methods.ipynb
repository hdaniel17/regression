{
 "cells": [
  {
   "cell_type": "markdown",
   "source": [
    "# Shrinkage Methods\n",
    "Shrinkage methods aim to decrease prediction error by introducing a bias that shrinks the coefficients obtained using OLS. This is achieved by minimizing RSS plus a penalty term. Being less fit to the training data, the model has bias but less variance among different possible training sets. OLS has low bias because it is fit to the data, but high variance because it will be fit to whatever sample is used.\n",
    "\n",
    "The most basic shrinkage methods are ridge and lasso regression.\n",
    "\n",
    "\n",
    "## Ridge Regression\n",
    "\n",
    "Recall that OLS minimizes RSS. Ridge minimizes RSS plus a lambda parameter times the sum of the squares of the coefficients. Here is how that looks:\n",
    "\n",
    "$$\\text{RSS} + \\lambda \\sum_{j=1}^{p} \\beta_j^2$$\n",
    "\n",
    "Note that the intercept is not included in the penalty term and that $\\lambda \\ge 0$. Lambda has to be tuned separately. When $\\lambda = 0$, ridge regression is equivalent to OLS. As $\\lambda$ approaches infinity, the coefficients approach 0."
   ],
   "metadata": {
    "collapsed": false
   },
   "id": "454e7b0f930540cc"
  },
  {
   "cell_type": "code",
   "execution_count": 97,
   "id": "initial_id",
   "metadata": {
    "collapsed": true,
    "ExecuteTime": {
     "end_time": "2024-06-21T01:00:15.631572100Z",
     "start_time": "2024-06-21T01:00:15.560273Z"
    }
   },
   "outputs": [],
   "source": [
    "import pandas as pd\n",
    "import numpy as np\n",
    "import matplotlib.pyplot as plt\n",
    "import patsy\n",
    "import statsmodels.api as sm\n",
    "import statsmodels.formula.api as smf"
   ]
  },
  {
   "cell_type": "markdown",
   "source": [
    "## Data\n",
    "\n",
    "It is important to note that the inputs for ridge regression are generally standardized. With multiple features of different scales, the penalty would otherwise not have a uniform effect. If standardized (or centered), the intercept will be $\\bar{y}$. In the case of one feature with a coefficient approaching 0, $\\bar{y}$ would minimize the residuals.\n",
    "\n",
    "The rest of the coefficients follow a similar form to OLS:\n",
    "\n",
    "$$\\hat{\\beta}_{ridge} =(X^TX + \\lambda I)^{-1} X^{T}y$$"
   ],
   "metadata": {
    "collapsed": false
   },
   "id": "3c1f0dfc736b4120"
  },
  {
   "cell_type": "code",
   "outputs": [],
   "source": [
    "train_df = pd.read_pickle('Data/prostate.pkl').query(\"train == 'T'\")\n",
    "test_df = pd.read_pickle('Data/prostate.pkl').query(\"train == 'F'\")\n",
    "features = train_df.columns.to_list()\n",
    "features = [item for item in features if item not in ['lpsa', 'train']]"
   ],
   "metadata": {
    "collapsed": false,
    "ExecuteTime": {
     "end_time": "2024-06-21T01:00:15.701392600Z",
     "start_time": "2024-06-21T01:00:15.636627600Z"
    }
   },
   "id": "9caf781f51c1db5d",
   "execution_count": 98
  },
  {
   "cell_type": "code",
   "outputs": [
    {
     "data": {
      "text/plain": "array([ 2.45234509,  0.45349457,  0.25880337, -0.05349493,  0.17410649,\n        0.24167883, -0.01017014,  0.04019622,  0.14034449])"
     },
     "execution_count": 99,
     "metadata": {},
     "output_type": "execute_result"
    }
   ],
   "source": [
    "X = train_df[features]  # No intercept columns\n",
    "y = np.array(train_df['lpsa'])\n",
    "\n",
    "beta_0 = y.mean()\n",
    "\n",
    "l = 20  # Placeholder lambda\n",
    "id_mat = np.identity(len(features))  # p * p identity matrix\n",
    "beta = np.linalg.inv((X.T @ X) + (l * id_mat)) @ (X.T @ y)\n",
    "\n",
    "np.append(beta_0, beta)"
   ],
   "metadata": {
    "collapsed": false,
    "ExecuteTime": {
     "end_time": "2024-06-21T01:00:15.701392600Z",
     "start_time": "2024-06-21T01:00:15.680835900Z"
    }
   },
   "id": "a329ed637fea9fb1",
   "execution_count": 99
  },
  {
   "cell_type": "markdown",
   "source": [
    "## Statsmodels and SciKit-Learn\n",
    "\n",
    "Using Statsmodels for ridge regression is a little more annoying, which is why I will also introduce SciKit-Learn. This will also show why it is important to understand how a library/package implements a model, what defaults it has, and what the inputs are.\n",
    "\n",
    "Notes on Statsmodels:\n",
    "The penalty term which is called alpha instead of lambda is applied to every term including the intercept which we don't want. Instead, we are able to pass a vector with the first term being 0. Lambda is also scaled by the number of data points, so for comparison we must divide by n. You don't normally have to do this since you would still be searching for what lambda works the best, but it is important to note."
   ],
   "metadata": {
    "collapsed": false
   },
   "id": "fb4caf6510401bd6"
  },
  {
   "cell_type": "code",
   "outputs": [
    {
     "data": {
      "text/plain": "array([ 2.45234509,  0.45349457,  0.25880337, -0.05349493,  0.17410649,\n        0.24167883, -0.01017014,  0.04019622,  0.14034449])"
     },
     "execution_count": 100,
     "metadata": {},
     "output_type": "execute_result"
    }
   ],
   "source": [
    "# Statsmodels\n",
    "# Same Patsy setup as before\n",
    "rhs = 'lpsa ~ lcavol + lweight + age + lbph + svi + lcp + gleason + pgg45'\n",
    "y, X = patsy.dmatrices(rhs, train_df)\n",
    "\n",
    "# We still use OLS to build the model\n",
    "linear_model = sm.regression.linear_model.OLS(y,X)\n",
    "\n",
    "# Create the lambda array\n",
    "lambdas = np.zeros(9)\n",
    "lambdas[1:] = 20 / train_df.shape[0]\n",
    "\n",
    "# fit_regularized instead of fit, supply lambda vector, and set L1_wt to 0 for ridge (1 is LASSO)\n",
    "results = linear_model.fit_regularized(alpha=lambdas,L1_wt=0.0)\n",
    "\n",
    "# .summary() is not implemented yet\n",
    "results.params"
   ],
   "metadata": {
    "collapsed": false,
    "ExecuteTime": {
     "end_time": "2024-06-21T01:00:15.736001100Z",
     "start_time": "2024-06-21T01:00:15.695256200Z"
    }
   },
   "id": "e8a198ff92af04c7",
   "execution_count": 100
  },
  {
   "cell_type": "code",
   "outputs": [
    {
     "data": {
      "text/plain": "array([ 2.45234509,  0.45349457,  0.25880337, -0.05349493,  0.17410649,\n        0.24167883, -0.01017014,  0.04019622,  0.14034449])"
     },
     "execution_count": 101,
     "metadata": {},
     "output_type": "execute_result"
    }
   ],
   "source": [
    "# sklearn\n",
    "from sklearn.linear_model import Ridge\n",
    "ridge_reg = Ridge(alpha=20, fit_intercept=True)\n",
    "\n",
    "X = train_df[features]\n",
    "y = np.array(train_df['lpsa'])\n",
    "\n",
    "ridge_reg.fit(X, y)  # Note X, y instead of y, X\n",
    "np.append(ridge_reg.intercept_, ridge_reg.coef_)"
   ],
   "metadata": {
    "collapsed": false,
    "ExecuteTime": {
     "end_time": "2024-06-21T01:00:15.754687500Z",
     "start_time": "2024-06-21T01:00:15.731066600Z"
    }
   },
   "id": "9d1973b6b9e24428",
   "execution_count": 101
  },
  {
   "cell_type": "markdown",
   "source": [
    "Here's how the coefficients shrink as lambda increases:"
   ],
   "metadata": {
    "collapsed": false
   },
   "id": "a2d4662bb989bb28"
  },
  {
   "cell_type": "code",
   "outputs": [
    {
     "data": {
      "text/plain": "<Figure size 640x480 with 1 Axes>",
      "image/png": "[encoded data removed]"
     },
     "metadata": {},
     "output_type": "display_data"
    }
   ],
   "source": [
    "coeff_array = np.zeros((50,10))\n",
    "\n",
    "for i in range(50):\n",
    "    ridge_reg = Ridge(alpha=i, fit_intercept=True)\n",
    "    ridge_reg.fit(X, y)\n",
    "    coeff_array[i,:] = np.append(np.append(ridge_reg.intercept_, ridge_reg.coef_),i)\n",
    "    \n",
    "plt.plot(coeff_array[:,9], coeff_array[:,1:8])\n",
    "plt.title('Ridge Regression Coefficient Shrinkage')\n",
    "plt.ylabel('Coefficient')\n",
    "plt.xlabel('Lambda')\n",
    "plt.legend(features);"
   ],
   "metadata": {
    "collapsed": false,
    "ExecuteTime": {
     "end_time": "2024-06-21T01:00:16.057116700Z",
     "start_time": "2024-06-21T01:00:15.746632900Z"
    }
   },
   "id": "da46a3682331686",
   "execution_count": 102
  },
  {
   "cell_type": "markdown",
   "source": [
    "## Lasso\n",
    "\n",
    "Where the coefficient of less impactful features tend to 0 in ridge regression, lasso's penalty can set them to 0. Additionally instead of an L2-norm penalty term, lasso uses an L1-norm penalty. So we are minimizing:\n",
    "$$\\text{RSS} + \\lambda \\sum_{j=1}^{p} |\\beta_j|$$ \n",
    "\n",
    "Because the absolute value is not differentiable, there is no closed form solution like there is for ridge and ols."
   ],
   "metadata": {
    "collapsed": false
   },
   "id": "9e432417a418ff0c"
  },
  {
   "cell_type": "markdown",
   "source": [
    "Note that StatsModel and SciKit-Learn use the same lambda (alpha), but we may see slightly different results based on the functions work."
   ],
   "metadata": {
    "collapsed": false
   },
   "id": "c03bf64474e05052"
  },
  {
   "cell_type": "code",
   "outputs": [
    {
     "data": {
      "text/plain": "array([2.45234509, 0.56899064, 0.21100748, 0.        , 0.05799238,\n       0.13671977, 0.        , 0.        , 0.03503067])"
     },
     "execution_count": 103,
     "metadata": {},
     "output_type": "execute_result"
    }
   ],
   "source": [
    "# Statsmodels\n",
    "# Same Patsy setup as before\n",
    "rhs = 'lpsa ~ lcavol + lweight + age + lbph + svi + lcp + gleason + pgg45'\n",
    "y, X = patsy.dmatrices(rhs, train_df)\n",
    "\n",
    "# We still use OLS to build the model\n",
    "linear_model = sm.regression.linear_model.OLS(y,X)\n",
    "\n",
    "# Create the lambda array\n",
    "lambdas = np.zeros(9)\n",
    "lambdas[1:] = 10 / train_df.shape[0]\n",
    "\n",
    "# fit_regularized instead of fit, supply lambda vector, and set L1_wt to 1 for LASSO\n",
    "results = linear_model.fit_regularized(alpha=lambdas,L1_wt=1.0)\n",
    "\n",
    "# .summary() is not implemented yet\n",
    "results.params"
   ],
   "metadata": {
    "collapsed": false,
    "ExecuteTime": {
     "end_time": "2024-06-21T01:00:16.143486900Z",
     "start_time": "2024-06-21T01:00:16.067560300Z"
    }
   },
   "id": "3f0a7ab12a25e4a1",
   "execution_count": 103
  },
  {
   "cell_type": "code",
   "outputs": [
    {
     "data": {
      "text/plain": "array([2.45234509, 0.5689806 , 0.21100084, 0.        , 0.05799792,\n       0.13672137, 0.        , 0.        , 0.03503541])"
     },
     "execution_count": 104,
     "metadata": {},
     "output_type": "execute_result"
    }
   ],
   "source": [
    "# sklearn\n",
    "from sklearn.linear_model import Lasso\n",
    "\n",
    "l = 10 / train_df.shape[0]\n",
    "lasso_reg = Lasso(alpha=l, fit_intercept=True)\n",
    "\n",
    "X = train_df[features]\n",
    "y = np.array(train_df['lpsa'])\n",
    "\n",
    "lasso_reg.fit(X, y)  # Note X, y instead of y, X\n",
    "np.append(lasso_reg.intercept_, lasso_reg.coef_)"
   ],
   "metadata": {
    "collapsed": false,
    "ExecuteTime": {
     "end_time": "2024-06-21T01:00:16.157557600Z",
     "start_time": "2024-06-21T01:00:16.088403300Z"
    }
   },
   "id": "3d9ace002d806655",
   "execution_count": 104
  },
  {
   "cell_type": "code",
   "outputs": [],
   "source": [],
   "metadata": {
    "collapsed": false,
    "ExecuteTime": {
     "end_time": "2024-06-21T01:00:16.158571800Z",
     "start_time": "2024-06-21T01:00:16.134977Z"
    }
   },
   "id": "454e3d5ebce6b2d3",
   "execution_count": 104
  }
 ],
 "metadata": {
  "kernelspec": {
   "display_name": "Python 3",
   "language": "python",
   "name": "python3"
  },
  "language_info": {
   "codemirror_mode": {
    "name": "ipython",
    "version": 2
   },
   "file_extension": ".py",
   "mimetype": "text/x-python",
   "name": "python",
   "nbconvert_exporter": "python",
   "pygments_lexer": "ipython2",
   "version": "2.7.6"
  }
 },
 "nbformat": 4,
 "nbformat_minor": 5
}
