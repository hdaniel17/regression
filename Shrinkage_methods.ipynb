{
 "cells": [
  {
   "cell_type": "markdown",
   "source": [
    "# Shrinkage Methods\n",
    "References:\n",
    "*Elements of Statistical Learning* - Hastie, Tibshirani, Friedman\n",
    "\n",
    "\n",
    "Shrinkage methods aim to decrease prediction error by introducing a bias that shrinks the coefficients obtained using OLS. This is achieved by minimizing RSS plus a penalty term. Being less fit to the training data, the model has bias but less variance among different possible training sets. OLS has low bias because it is fit to the data, but high variance because it will be fit to whatever sample is used.\n",
    "\n",
    "The most basic shrinkage methods are ridge and lasso regression.\n",
    "\n",
    "\n",
    "## Ridge Regression\n",
    "\n",
    "Recall that OLS minimizes RSS. Ridge minimizes RSS plus a lambda parameter times the sum of the squares of the coefficients. Here is how that looks:\n",
    "\n",
    "$$\\text{RSS} + \\lambda \\sum_{j=1}^{p} \\beta_j^2$$\n",
    "\n",
    "Note that the intercept is not included in the penalty term and that $\\lambda \\ge 0$. Lambda has to be tuned separately. When $\\lambda = 0$, ridge regression is equivalent to OLS. As $\\lambda$ approaches infinity, the coefficients approach 0."
   ],
   "metadata": {
    "collapsed": false
   },
   "id": "454e7b0f930540cc"
  },
  {
   "cell_type": "code",
   "execution_count": 379,
   "id": "initial_id",
   "metadata": {
    "collapsed": true,
    "ExecuteTime": {
     "end_time": "2024-07-03T19:07:59.321748800Z",
     "start_time": "2024-07-03T19:07:59.198524Z"
    }
   },
   "outputs": [],
   "source": [
    "import pandas as pd\n",
    "import numpy as np\n",
    "import matplotlib.pyplot as plt\n",
    "import patsy\n",
    "import statsmodels.api as sm\n",
    "import statsmodels.formula.api as smf"
   ]
  },
  {
   "cell_type": "markdown",
   "source": [
    "## Data\n",
    "\n",
    "It is important to note that the inputs for ridge regression are generally standardized. With multiple features of different scales, the penalty would otherwise not have a uniform effect. If standardized (or centered), the intercept will be $\\bar{y}$. In the case of one feature with a coefficient approaching 0, $\\bar{y}$ would minimize the residuals.\n",
    "\n",
    "The rest of the coefficients follow a similar form to OLS:\n",
    "\n",
    "$$\\hat{\\beta}_{ridge} =(X^TX + \\lambda I)^{-1} X^{T}y$$"
   ],
   "metadata": {
    "collapsed": false
   },
   "id": "3c1f0dfc736b4120"
  },
  {
   "cell_type": "code",
   "outputs": [],
   "source": [
    "train_df = pd.read_pickle('Data/prostate.pkl').query(\"train == 'T'\")\n",
    "test_df = pd.read_pickle('Data/prostate.pkl').query(\"train == 'F'\")\n",
    "features = train_df.columns.to_list()\n",
    "features = [item for item in features if item not in ['lpsa', 'train']]"
   ],
   "metadata": {
    "collapsed": false,
    "ExecuteTime": {
     "end_time": "2024-07-03T19:07:59.361372900Z",
     "start_time": "2024-07-03T19:07:59.326263700Z"
    }
   },
   "id": "9caf781f51c1db5d",
   "execution_count": 380
  },
  {
   "cell_type": "code",
   "outputs": [
    {
     "data": {
      "text/plain": "array([ 2.45234509,  0.45349457,  0.25880337, -0.05349493,  0.17410649,\n        0.24167883, -0.01017014,  0.04019622,  0.14034449])"
     },
     "execution_count": 381,
     "metadata": {},
     "output_type": "execute_result"
    }
   ],
   "source": [
    "X = train_df[features]  # No intercept column\n",
    "y = np.array(train_df['lpsa'])\n",
    "\n",
    "beta_0 = y.mean()\n",
    "\n",
    "l = 20  # Placeholder lambda\n",
    "id_mat = np.identity(len(features))  # p * p identity matrix\n",
    "beta = np.linalg.inv((X.T @ X) + (l * id_mat)) @ (X.T @ y)  # the inverse function is slow, so don't actually do this\n",
    "\n",
    "np.append(beta_0, beta)"
   ],
   "metadata": {
    "collapsed": false,
    "ExecuteTime": {
     "end_time": "2024-07-03T19:07:59.379983200Z",
     "start_time": "2024-07-03T19:07:59.353630700Z"
    }
   },
   "id": "a329ed637fea9fb1",
   "execution_count": 381
  },
  {
   "cell_type": "markdown",
   "source": [
    "## Statsmodels and SciKit-Learn\n",
    "\n",
    "Using Statsmodels for ridge regression is a little more annoying, which is why I will also introduce SciKit-Learn. This will also show why it is important to understand how a library/package implements a model, what defaults it has, and what the inputs are.\n",
    "\n",
    "Notes on Statsmodels:\n",
    "The penalty term which is called alpha instead of lambda is applied to every term including the intercept which we don't want. Instead, we are able to pass a vector with the first term being 0. Lambda is also scaled by the number of data points, so for comparison we must divide by n. You don't normally have to do this since you would still be searching for what lambda works the best, but it is important to note."
   ],
   "metadata": {
    "collapsed": false
   },
   "id": "fb4caf6510401bd6"
  },
  {
   "cell_type": "code",
   "outputs": [
    {
     "data": {
      "text/plain": "array([ 2.45234509,  0.45349457,  0.25880337, -0.05349493,  0.17410649,\n        0.24167883, -0.01017014,  0.04019622,  0.14034449])"
     },
     "execution_count": 382,
     "metadata": {},
     "output_type": "execute_result"
    }
   ],
   "source": [
    "# Statsmodels\n",
    "# Same Patsy setup as before\n",
    "rhs = 'lpsa ~ lcavol + lweight + age + lbph + svi + lcp + gleason + pgg45'\n",
    "y, X = patsy.dmatrices(rhs, train_df)\n",
    "\n",
    "# We still use OLS to build the model\n",
    "linear_model = sm.regression.linear_model.OLS(y,X)\n",
    "\n",
    "# Create the lambda array\n",
    "lambdas = np.zeros(9)\n",
    "lambdas[1:] = 20 / train_df.shape[0]  # Keep the intercept's lambda as 0\n",
    "\n",
    "# fit_regularized instead of fit, supply lambda vector, and set L1_wt to 0 for ridge (1 is LASSO)\n",
    "results = linear_model.fit_regularized(alpha=lambdas,L1_wt=0.0)\n",
    "\n",
    "# .summary() is not implemented yet\n",
    "results.params"
   ],
   "metadata": {
    "collapsed": false,
    "ExecuteTime": {
     "end_time": "2024-07-03T19:07:59.401874900Z",
     "start_time": "2024-07-03T19:07:59.364647900Z"
    }
   },
   "id": "e8a198ff92af04c7",
   "execution_count": 382
  },
  {
   "cell_type": "code",
   "outputs": [
    {
     "data": {
      "text/plain": "array([ 2.45234509,  0.45349457,  0.25880337, -0.05349493,  0.17410649,\n        0.24167883, -0.01017014,  0.04019622,  0.14034449])"
     },
     "execution_count": 383,
     "metadata": {},
     "output_type": "execute_result"
    }
   ],
   "source": [
    "# sklearn\n",
    "from sklearn.linear_model import Ridge\n",
    "ridge_reg = Ridge(alpha=20, fit_intercept=True)\n",
    "\n",
    "X = train_df[features]\n",
    "y = np.array(train_df['lpsa'])\n",
    "\n",
    "ridge_reg.fit(X, y)  # Note X, y instead of y, X\n",
    "np.append(ridge_reg.intercept_, ridge_reg.coef_)"
   ],
   "metadata": {
    "collapsed": false,
    "ExecuteTime": {
     "end_time": "2024-07-03T19:07:59.403918Z",
     "start_time": "2024-07-03T19:07:59.387471700Z"
    }
   },
   "id": "9d1973b6b9e24428",
   "execution_count": 383
  },
  {
   "cell_type": "markdown",
   "source": [
    "Here's how the coefficients shrink as lambda increases:"
   ],
   "metadata": {
    "collapsed": false
   },
   "id": "a2d4662bb989bb28"
  },
  {
   "cell_type": "code",
   "outputs": [
    {
     "data": {
      "text/plain": "<Figure size 640x480 with 1 Axes>",
      "image/png": "[encoded data removed]"
     },
     "metadata": {},
     "output_type": "display_data"
    }
   ],
   "source": [
    "coeff_array = np.zeros((50,10))\n",
    "\n",
    "for i in range(50):\n",
    "    ridge_reg = Ridge(alpha=i, fit_intercept=True)\n",
    "    ridge_reg.fit(X, y)\n",
    "    coeff_array[i,:] = np.append(np.append(ridge_reg.intercept_, ridge_reg.coef_),i)\n",
    "    \n",
    "plt.plot(coeff_array[:,9], coeff_array[:,1:8])\n",
    "plt.title('Ridge Regression Coefficient Shrinkage')\n",
    "plt.ylabel('Coefficient')\n",
    "plt.xlabel('Lambda')\n",
    "plt.legend(features);"
   ],
   "metadata": {
    "collapsed": false,
    "ExecuteTime": {
     "end_time": "2024-07-03T19:07:59.649962300Z",
     "start_time": "2024-07-03T19:07:59.409265600Z"
    }
   },
   "id": "da46a3682331686",
   "execution_count": 384
  },
  {
   "cell_type": "markdown",
   "source": [
    "## Lasso\n",
    "\n",
    "Where the coefficient of less impactful features tend to 0 in ridge regression, lasso's penalty can set them to 0. Additionally instead of an L2-norm penalty term, lasso uses an L1-norm penalty. So we are minimizing:\n",
    "$$\\text{RSS} + \\lambda \\sum_{j=1}^{p} |\\beta_j|$$ \n",
    "\n",
    "Because the absolute value is not differentiable, there is no closed form solution like there is for ridge and ols."
   ],
   "metadata": {
    "collapsed": false
   },
   "id": "9e432417a418ff0c"
  },
  {
   "cell_type": "markdown",
   "source": [
    "Note that StatsModel and SciKit-Learn use the same lambda (alpha), but we may see slightly different results based on the functions work."
   ],
   "metadata": {
    "collapsed": false
   },
   "id": "c03bf64474e05052"
  },
  {
   "cell_type": "code",
   "outputs": [
    {
     "data": {
      "text/plain": "array([2.45234509, 0.56899064, 0.21100748, 0.        , 0.05799238,\n       0.13671977, 0.        , 0.        , 0.03503067])"
     },
     "execution_count": 385,
     "metadata": {},
     "output_type": "execute_result"
    }
   ],
   "source": [
    "# Statsmodels\n",
    "# Same Patsy setup as before\n",
    "rhs = 'lpsa ~ lcavol + lweight + age + lbph + svi + lcp + gleason + pgg45'\n",
    "y, X = patsy.dmatrices(rhs, train_df)\n",
    "\n",
    "# We still use OLS to build the model\n",
    "linear_model = sm.regression.linear_model.OLS(y,X)\n",
    "\n",
    "# Create the lambda array\n",
    "lambdas = np.zeros(9)\n",
    "lambdas[1:] = 10 / train_df.shape[0]\n",
    "\n",
    "# fit_regularized instead of fit, supply lambda vector, and set L1_wt to 1 for LASSO\n",
    "results = linear_model.fit_regularized(alpha=lambdas,L1_wt=1.0)\n",
    "\n",
    "# .summary() is not implemented yet\n",
    "results.params"
   ],
   "metadata": {
    "collapsed": false,
    "ExecuteTime": {
     "end_time": "2024-07-03T19:07:59.734241200Z",
     "start_time": "2024-07-03T19:07:59.652137400Z"
    }
   },
   "id": "3f0a7ab12a25e4a1",
   "execution_count": 385
  },
  {
   "cell_type": "code",
   "outputs": [
    {
     "data": {
      "text/plain": "array([2.45234509, 0.5689806 , 0.21100084, 0.        , 0.05799792,\n       0.13672137, 0.        , 0.        , 0.03503541])"
     },
     "execution_count": 386,
     "metadata": {},
     "output_type": "execute_result"
    }
   ],
   "source": [
    "# sklearn\n",
    "from sklearn.linear_model import Lasso\n",
    "\n",
    "l = 10 / train_df.shape[0]\n",
    "lasso_reg = Lasso(alpha=l, fit_intercept=True)\n",
    "\n",
    "X = train_df[features]\n",
    "y = np.array(train_df['lpsa'])\n",
    "\n",
    "lasso_reg.fit(X, y)  # Note X, y instead of y, X\n",
    "np.append(lasso_reg.intercept_, lasso_reg.coef_)"
   ],
   "metadata": {
    "collapsed": false,
    "ExecuteTime": {
     "end_time": "2024-07-03T19:07:59.735353200Z",
     "start_time": "2024-07-03T19:07:59.686242400Z"
    }
   },
   "id": "3d9ace002d806655",
   "execution_count": 386
  },
  {
   "cell_type": "code",
   "outputs": [
    {
     "data": {
      "text/plain": "<Figure size 640x480 with 1 Axes>",
      "image/png": "[encoded data removed]"
     },
     "metadata": {},
     "output_type": "display_data"
    }
   ],
   "source": [
    "coeff_array = np.zeros((50,10))\n",
    "\n",
    "n = train_df.shape[0]\n",
    "\n",
    "for i in range(1,51):\n",
    "    lasso_reg = Lasso(alpha=i/n, fit_intercept=True)\n",
    "    lasso_reg.fit(X, y)\n",
    "    coeff_array[i-1,:] = np.append(np.append(lasso_reg.intercept_, lasso_reg.coef_),i/n)\n",
    "    \n",
    "plt.plot(coeff_array[:,9], coeff_array[:,1:8])\n",
    "plt.title('Lasso Regression Coefficient Shrinkage')\n",
    "plt.ylabel('Coefficient')\n",
    "plt.xlabel('Lambda')\n",
    "plt.legend(features);"
   ],
   "metadata": {
    "collapsed": false,
    "ExecuteTime": {
     "end_time": "2024-07-03T19:07:59.899012600Z",
     "start_time": "2024-07-03T19:07:59.690621900Z"
    }
   },
   "id": "454e3d5ebce6b2d3",
   "execution_count": 387
  },
  {
   "cell_type": "markdown",
   "source": [
    "And here we see that the coefficients go exactly to zero."
   ],
   "metadata": {
    "collapsed": false
   },
   "id": "26240e40ae905e58"
  },
  {
   "cell_type": "markdown",
   "source": [
    "## Cross Validation\n",
    "\n",
    "Cross validation splits the data into K folds that are approximately the same size. Each fold is used as a testing set, while the other K-1 folds are used to build a model. The average of the error on the left out fold can be used to estimate prediction error, but our focus here is to use cross validation for selecting a parameter. So for a variety of possible lambdas, we will run a CV to estimate the prediction error and use the lambda with the lowest error estimate. \n",
    "\n",
    "An important note is that we don't want to leak any data from a testing set into a training set. The textbook example is using correlation on the entire dataset to select predictors and then running cross validation. The estimated prediction error is inflated because the predictors were chosen for their performance on all data. For a testing set to be useful, it should not be used in the training set.\n",
    "\n",
    "Currently, the training set is standardized, but we will want to do this for each new \"training\" set (K-1 folds) and apply the same mean and standard deviation to the testing set (Kth fold).\n",
    "\n",
    " How big should the folds be? \n",
    " Ideally we have an idea of how much data is needed to train a model, but this is sometimes hard to know when we do not have much data. Using a 10-fold or 5-fold CV is fairly standard. I will use a 5-fold because of the small amount of data.\n",
    " \n",
    "### Ridge Regression CV for Lambda"
   ],
   "metadata": {
    "collapsed": false
   },
   "id": "2f666cd93591d4c9"
  },
  {
   "cell_type": "code",
   "outputs": [],
   "source": [
    "# Load in original dataset (earlier dataset was preprocessed)\n",
    "prostate_df = pd.read_excel('Data/Prostate Cancer Data.xlsx', 'prostate').drop(columns=['Unnamed: 0'])\n",
    "cv_df = prostate_df.query(\"train == 'T'\").copy().drop(columns=['train'])\n",
    "#cv_y = prostate_df.query(\"train == 'T'\").copy().lpsa"
   ],
   "metadata": {
    "collapsed": false,
    "ExecuteTime": {
     "end_time": "2024-07-03T19:07:59.973766600Z",
     "start_time": "2024-07-03T19:07:59.901180400Z"
    }
   },
   "id": "e213249b1b56966b",
   "execution_count": 388
  },
  {
   "cell_type": "code",
   "outputs": [],
   "source": [
    "# Create roughly equal partitions for 5 folds\n",
    "K = 10\n",
    "partition = np.zeros((K, 2), dtype=int)\n",
    "\n",
    "n = train_df.shape[0]\n",
    "last = 0\n",
    "for i in range(K):\n",
    "    psize = int(np.ceil(n / (K - i)))\n",
    "    partition[i, :] = [last, last + psize-1]\n",
    "    last += psize\n",
    "    n -= psize"
   ],
   "metadata": {
    "collapsed": false,
    "ExecuteTime": {
     "end_time": "2024-07-03T19:07:59.974923100Z",
     "start_time": "2024-07-03T19:07:59.930621400Z"
    }
   },
   "id": "2344ee35d9d8b596",
   "execution_count": 389
  },
  {
   "cell_type": "code",
   "outputs": [
    {
     "data": {
      "text/plain": "4"
     },
     "execution_count": 390,
     "metadata": {},
     "output_type": "execute_result"
    }
   ],
   "source": [
    "# Load in original dataset (earlier dataset was preprocessed)\n",
    "prostate_df = pd.read_excel('Data/Prostate Cancer Data.xlsx', 'prostate').drop(columns=['Unnamed: 0'])\n",
    "cv_df = prostate_df.query(\"train == 'T'\").copy().drop(columns=['train'])\n",
    "cv_df = cv_df.sample(frac=1, random_state=0)  # Shuffle df, so not sorted\n",
    "\n",
    "lambdas = [i for i in range(1,40)]\n",
    "errors = np.zeros(len(lambdas))\n",
    "\n",
    "for j in range(K):\n",
    "    train = cv_df.drop(cv_df.index[partition[j,0]:partition[j,1]+1])  # K - 1 folds\n",
    "    test = cv_df[partition[j,0]:partition[j,1]+1]  # Kth fold\n",
    "\n",
    "    y_train = train.lpsa\n",
    "    X_train = train.drop(columns='lpsa')\n",
    "    y_test = test.lpsa\n",
    "    X_test = test.drop(columns='lpsa')\n",
    "    \n",
    "    train_mean = X_train.mean()\n",
    "    train_std = X_train.std(ddof=0)\n",
    "    \n",
    "    X_train = (X_train-train_mean) / train_std  # Standardize train/test with train mean/std\n",
    "    X_test = (X_test-train_mean) / train_std\n",
    "    \n",
    "    for i in range(len(lambdas)):\n",
    "        \n",
    "        ridge_reg = Ridge(alpha=lambdas[i], fit_intercept=True)  # Fit and predict\n",
    "        ridge_reg.fit(X_train, y_train)\n",
    "        pred_test = ridge_reg.predict(X_test)\n",
    "\n",
    "        errors[i] += ((pred_test - y_test) ** 2).sum()\n",
    "\n",
    "errors /= cv_df.shape[0]\n",
    "\n",
    "lambdas[np.argmin(errors)]  # Best lambda value found"
   ],
   "metadata": {
    "collapsed": false,
    "ExecuteTime": {
     "end_time": "2024-07-03T19:08:00.661774800Z",
     "start_time": "2024-07-03T19:07:59.935589200Z"
    }
   },
   "id": "243ebeeb0f57db6a",
   "execution_count": 390
  },
  {
   "cell_type": "code",
   "outputs": [
    {
     "data": {
      "text/plain": "array([0.62345871, 0.62013555, 0.61838036, 0.61767677, 0.61769623,\n       0.61822304, 0.61911179, 0.62026228, 0.62160412, 0.62308706,\n       0.6246747 , 0.62634036, 0.62806427, 0.62983163, 0.63163128,\n       0.63345473, 0.6352955 , 0.6371486 , 0.63901017, 0.64087721,\n       0.64274739, 0.6446189 , 0.64649031, 0.6483605 , 0.65022859,\n       0.6520939 , 0.65395588, 0.65581412, 0.65766827, 0.65951808,\n       0.66136336, 0.66320394, 0.6650397 , 0.66687056, 0.66869643,\n       0.67051728, 0.67233307, 0.67414376, 0.67594935])"
     },
     "execution_count": 391,
     "metadata": {},
     "output_type": "execute_result"
    }
   ],
   "source": [
    "errors"
   ],
   "metadata": {
    "collapsed": false,
    "ExecuteTime": {
     "end_time": "2024-07-03T19:08:00.664037500Z",
     "start_time": "2024-07-03T19:08:00.658851500Z"
    }
   },
   "id": "20d218b96eceb08a",
   "execution_count": 391
  },
  {
   "cell_type": "code",
   "outputs": [
    {
     "data": {
      "text/plain": "array([ 2.45234509,  0.62319319,  0.28573645, -0.11538444,  0.20231712,\n        0.28708232, -0.17994724,  0.00802209,  0.21491203])"
     },
     "execution_count": 392,
     "metadata": {},
     "output_type": "execute_result"
    }
   ],
   "source": [
    "# Fitting all data on best lambda\n",
    "X = (cv_df[features] - cv_df[features].mean()) / cv_df[features].std(ddof=0) \n",
    "y = np.array(cv_df['lpsa'])\n",
    "ridge_reg = Ridge(alpha=4, fit_intercept=True)\n",
    "ridge_reg.fit(X, y)\n",
    "np.append(ridge_reg.intercept_, ridge_reg.coef_)"
   ],
   "metadata": {
    "collapsed": false,
    "ExecuteTime": {
     "end_time": "2024-07-03T19:08:00.704806900Z",
     "start_time": "2024-07-03T19:08:00.666151100Z"
    }
   },
   "id": "3320068f983958e4",
   "execution_count": 392
  },
  {
   "cell_type": "code",
   "outputs": [
    {
     "data": {
      "text/plain": "5"
     },
     "execution_count": 393,
     "metadata": {},
     "output_type": "execute_result"
    }
   ],
   "source": [
    "# Sklearn also has a RidgeCV function\n",
    "from sklearn.pipeline import Pipeline\n",
    "from sklearn.linear_model import RidgeCV\n",
    "from sklearn.preprocessing import StandardScaler\n",
    "lambdas = [i for i in range(1,40)]\n",
    "\n",
    "pipe = Pipeline([(\"scaler\", StandardScaler()),\n",
    "                 (\"ridge\", RidgeCV(alphas=lambdas, cv=10, scoring='neg_mean_squared_error'))])\n",
    "\n",
    "X = cv_df[features]  # fit with unscaled and shuffled df\n",
    "y = np.array(cv_df.lpsa)\n",
    "\n",
    "pipe.fit(X, y)\n",
    "pipe.named_steps['ridge'].alpha_  # best lambda"
   ],
   "metadata": {
    "collapsed": false,
    "ExecuteTime": {
     "end_time": "2024-07-03T19:08:00.996636100Z",
     "start_time": "2024-07-03T19:08:00.682306100Z"
    }
   },
   "id": "141df2700279579d",
   "execution_count": 393
  },
  {
   "cell_type": "markdown",
   "source": [
    "It finds a lambda of 5 instead of 4. My best guess is it has to do something with the scaling, partitioning, or cross validation implementation."
   ],
   "metadata": {
    "collapsed": false
   },
   "id": "4aa3aa325fa85181"
  },
  {
   "cell_type": "code",
   "outputs": [
    {
     "data": {
      "text/plain": "-0.616580968538391"
     },
     "execution_count": 394,
     "metadata": {},
     "output_type": "execute_result"
    }
   ],
   "source": [
    "pipe.named_steps['ridge'].best_score_  # The error is also slightly different"
   ],
   "metadata": {
    "collapsed": false,
    "ExecuteTime": {
     "end_time": "2024-07-03T19:08:00.998228300Z",
     "start_time": "2024-07-03T19:08:00.994028600Z"
    }
   },
   "id": "5b2140c6d016c7ec",
   "execution_count": 394
  },
  {
   "cell_type": "code",
   "outputs": [
    {
     "data": {
      "text/plain": "array([ 2.45234509,  0.60610311,  0.28418057, -0.10982178,  0.20029913,\n        0.28289364, -0.16052082,  0.0124514 ,  0.20501262])"
     },
     "execution_count": 395,
     "metadata": {},
     "output_type": "execute_result"
    }
   ],
   "source": [
    "np.append(pipe.named_steps['ridge'].intercept_, pipe.named_steps['ridge'].coef_) "
   ],
   "metadata": {
    "collapsed": false,
    "ExecuteTime": {
     "end_time": "2024-07-03T19:08:01.049481Z",
     "start_time": "2024-07-03T19:08:00.999306Z"
    }
   },
   "id": "8342c6540515a48b",
   "execution_count": 395
  },
  {
   "cell_type": "markdown",
   "source": [
    "Running all data with a lambda of 5 shows that it does get the same coefficients"
   ],
   "metadata": {
    "collapsed": false
   },
   "id": "c6fccf9bb6831c33"
  },
  {
   "cell_type": "code",
   "outputs": [
    {
     "data": {
      "text/plain": "array([ 2.45234509,  0.60610311,  0.28418057, -0.10982178,  0.20029913,\n        0.28289364, -0.16052082,  0.0124514 ,  0.20501262])"
     },
     "execution_count": 396,
     "metadata": {},
     "output_type": "execute_result"
    }
   ],
   "source": [
    "X = (cv_df[features] - cv_df[features].mean()) / cv_df[features].std(ddof=0) \n",
    "y = np.array(cv_df['lpsa'])\n",
    "ridge_reg = Ridge(alpha=5, fit_intercept=True)\n",
    "ridge_reg.fit(X, y)\n",
    "np.append(ridge_reg.intercept_, ridge_reg.coef_)"
   ],
   "metadata": {
    "collapsed": false,
    "ExecuteTime": {
     "end_time": "2024-07-03T19:08:01.050521300Z",
     "start_time": "2024-07-03T19:08:01.022922600Z"
    }
   },
   "id": "12f0a21f6387e794",
   "execution_count": 396
  },
  {
   "cell_type": "markdown",
   "source": [
    "I looked into why there might be a difference, but couldn't figure it out. It very well could be something on my end or goes to show that you should know exactly how a package implements something."
   ],
   "metadata": {
    "collapsed": false
   },
   "id": "480b8df233cfb852"
  },
  {
   "cell_type": "code",
   "outputs": [],
   "source": [],
   "metadata": {
    "collapsed": false,
    "ExecuteTime": {
     "end_time": "2024-07-03T19:08:01.050521300Z",
     "start_time": "2024-07-03T19:08:01.036277300Z"
    }
   },
   "id": "7eba16574ccd6675",
   "execution_count": 396
  }
 ],
 "metadata": {
  "kernelspec": {
   "display_name": "Python 3",
   "language": "python",
   "name": "python3"
  },
  "language_info": {
   "codemirror_mode": {
    "name": "ipython",
    "version": 2
   },
   "file_extension": ".py",
   "mimetype": "text/x-python",
   "name": "python",
   "nbconvert_exporter": "python",
   "pygments_lexer": "ipython2",
   "version": "2.7.6"
  }
 },
 "nbformat": 4,
 "nbformat_minor": 5
}
