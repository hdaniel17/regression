{
 "cells": [
  {
   "cell_type": "markdown",
   "source": [
    "compare normalization vs standardization\n",
    "\n",
    "should you standardize one hot encodings (does it only matter for penalized regression?)\n",
    "\n",
    "multicolinerality\n",
    "\n",
    "why should or do you need to center ridge regression?"
   ],
   "metadata": {
    "collapsed": false
   },
   "id": "a6ab6fe65d9f9841"
  },
  {
   "cell_type": "code",
   "execution_count": null,
   "id": "initial_id",
   "metadata": {
    "collapsed": true
   },
   "outputs": [],
   "source": []
  }
 ],
 "metadata": {
  "kernelspec": {
   "display_name": "Python 3",
   "language": "python",
   "name": "python3"
  },
  "language_info": {
   "codemirror_mode": {
    "name": "ipython",
    "version": 2
   },
   "file_extension": ".py",
   "mimetype": "text/x-python",
   "name": "python",
   "nbconvert_exporter": "python",
   "pygments_lexer": "ipython2",
   "version": "2.7.6"
  }
 },
 "nbformat": 4,
 "nbformat_minor": 5
}
